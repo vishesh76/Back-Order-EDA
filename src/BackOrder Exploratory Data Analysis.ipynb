{
 "cells": [
  {
   "cell_type": "markdown",
   "id": "74c710b1",
   "metadata": {},
   "source": [
    "# EXPLORATORY DATA ANALYSIS OF BACK ORDERS\n"
   ]
  },
  {
   "cell_type": "markdown",
   "id": "25102004",
   "metadata": {},
   "source": [
    "# Problem Statement:\n",
    "Classify the products whether they would go into Backorder (Yes or No) based on the historical data from inventory, supply chain and sales.\n",
    "\n",
    "# The target variable to predict consists of two values:\n",
    "“Yes” - If the Product predicted to go to Backorder\\\n",
    "“No”- If the Product predicted to be not going to Backorder\\\n",
    "(Binary Classification problem.)"
   ]
  },
  {
   "cell_type": "markdown",
   "id": "07b6b5a8",
   "metadata": {},
   "source": [
    "# Defining Variables:\n",
    "\n",
    "•\tSku(Stock Keeping unit) : The product id\\\n",
    "\n",
    "•\tNational_inv: The present inventory level of the product\\\n",
    "\n",
    "•\tLead_time: Transit time of the product\\\n",
    "\n",
    "•\tIn_transit_qty: The amount of product in transit\\\n",
    "\n",
    "•\tForecast_3_month, Forecast_6_month, Forecast_9_month: Forecast of the sales of the product for coming 3, 6 and 9 months respectively\\\n",
    "\n",
    "•\tSales_1_month, sales_3_month, sales_6_month, sales_9_month: Actual sales of the product in last 1, 3 ,6 and 9 months respectively\\\n",
    "\n",
    "•\tMin_bank: Minimum amount of stock recommended\\\n",
    "\n",
    "•\tPotential_issue: Any problem identified in the product/part\\\n",
    "\n",
    "•\tPieces_past_due: Number of parts of the product overdue if any\\\n",
    "\n",
    "•\tPerf_6_month_avg, perf_12_month_avg: Product performance over past 6 and 12 months respectively\\\n",
    "\n",
    "•\tLocal_bo_qty: Amount of stock overdue\\\n",
    "\n",
    "•\tDeck_risk, oe_constraint, ppap_risk, stop_auto_buy, rev_stop: Different Flags (Yes or No) set for the product\\\n",
    "\n",
    "•\tWent_on_backorder: Target variable"
   ]
  },
  {
   "cell_type": "markdown",
   "id": "585c7180",
   "metadata": {},
   "source": [
    "# Table of Content\n",
    "##### 1. Import Libraries\n",
    "##### 2. Read Data\n",
    "##### 3. Data Analysis and Preparation\n",
    "##### 4. Missing Values\n",
    "##### 5. Understand the Dataset\n",
    "##### 6. Summary Statistics\n",
    "##### 7. Distribution of Variables\n",
    "##### 8. Discover Outliers\n",
    "##### 9. Correlation\n",
    "##### 10. Prepare the Data\n"
   ]
  },
  {
   "cell_type": "markdown",
   "id": "9a7753c3",
   "metadata": {},
   "source": [
    "# 1. Import Libraries\n",
    "Import the required libraries and functions"
   ]
  },
  {
   "cell_type": "code",
   "execution_count": 1,
   "id": "0f3df835",
   "metadata": {},
   "outputs": [],
   "source": [
    "# 'Os' is used for data manipulation and analysis\n",
    "import os\n",
    "# 'Pandas' is used for data manipulation and analysis\n",
    "import pandas as pd\n",
    "# 'Numpy' is used for mathematical operations on large, multi-dimensional arrays and matrices\n",
    "import numpy as np\n",
    "# 'Matplotlib' is a data visualization library for 2D and 3D plots, built on numpy\n",
    "import matplotlib.pyplot as plt\n",
    "import matplotlib.cm as cm\n",
    "# 'Seaborn' is based on matplotlib; used for plotting statistical graphics\n",
    "import seaborn as sns\n",
    "# suppress display of warnings\n",
    "from warnings import filterwarnings\n",
    "filterwarnings('ignore')     \n",
    "pd.options.display.float_format = '{:.6f}'.format"
   ]
  },
  {
   "cell_type": "code",
   "execution_count": 2,
   "id": "e51253c4",
   "metadata": {},
   "outputs": [],
   "source": [
    "# set the plot size using 'rcParams'\n",
    "# once the plot size is set using 'rcParams', it sets the size of all the forthcoming plots in the file\n",
    "# pass width and height in inches to 'figure.figsize'\n",
    "plt.rcParams['figure.figsize'] = [15,8]"
   ]
  },
  {
   "cell_type": "code",
   "execution_count": 3,
   "id": "16051934",
   "metadata": {},
   "outputs": [],
   "source": [
    "# \"chdir\" is used to change the current working directory to specified path\n",
    "os.chdir(r\"C:\\Users\\91981\\Downloads\")"
   ]
  },
  {
   "cell_type": "markdown",
   "id": "15c2d36a",
   "metadata": {},
   "source": [
    "# 2. Read Data\n",
    "Read and display data to get an insight into the data"
   ]
  },
  {
   "cell_type": "code",
   "execution_count": 4,
   "id": "757d8c51",
   "metadata": {},
   "outputs": [],
   "source": [
    "# \"pd.read_csv\" is used to read the csv file format using pandas\n",
    "hd = pd.read_csv(\"BackOrders.csv\")"
   ]
  },
  {
   "cell_type": "code",
   "execution_count": 5,
   "id": "fb5e52d1",
   "metadata": {},
   "outputs": [
    {
     "data": {
      "text/html": [
       "<div>\n",
       "<style scoped>\n",
       "    .dataframe tbody tr th:only-of-type {\n",
       "        vertical-align: middle;\n",
       "    }\n",
       "\n",
       "    .dataframe tbody tr th {\n",
       "        vertical-align: top;\n",
       "    }\n",
       "\n",
       "    .dataframe thead th {\n",
       "        text-align: right;\n",
       "    }\n",
       "</style>\n",
       "<table border=\"1\" class=\"dataframe\">\n",
       "  <thead>\n",
       "    <tr style=\"text-align: right;\">\n",
       "      <th></th>\n",
       "      <th>sku</th>\n",
       "      <th>national_inv</th>\n",
       "      <th>lead_time</th>\n",
       "      <th>in_transit_qty</th>\n",
       "      <th>forecast_3_month</th>\n",
       "      <th>forecast_6_month</th>\n",
       "      <th>forecast_9_month</th>\n",
       "      <th>sales_1_month</th>\n",
       "      <th>sales_3_month</th>\n",
       "      <th>sales_6_month</th>\n",
       "      <th>...</th>\n",
       "      <th>pieces_past_due</th>\n",
       "      <th>perf_6_month_avg</th>\n",
       "      <th>perf_12_month_avg</th>\n",
       "      <th>local_bo_qty</th>\n",
       "      <th>deck_risk</th>\n",
       "      <th>oe_constraint</th>\n",
       "      <th>ppap_risk</th>\n",
       "      <th>stop_auto_buy</th>\n",
       "      <th>rev_stop</th>\n",
       "      <th>went_on_backorder</th>\n",
       "    </tr>\n",
       "  </thead>\n",
       "  <tbody>\n",
       "    <tr>\n",
       "      <th>0</th>\n",
       "      <td>1888279</td>\n",
       "      <td>117</td>\n",
       "      <td>NaN</td>\n",
       "      <td>0</td>\n",
       "      <td>0</td>\n",
       "      <td>0</td>\n",
       "      <td>0</td>\n",
       "      <td>0</td>\n",
       "      <td>0</td>\n",
       "      <td>15</td>\n",
       "      <td>...</td>\n",
       "      <td>0</td>\n",
       "      <td>-99.000000</td>\n",
       "      <td>-99.000000</td>\n",
       "      <td>0</td>\n",
       "      <td>No</td>\n",
       "      <td>No</td>\n",
       "      <td>Yes</td>\n",
       "      <td>Yes</td>\n",
       "      <td>No</td>\n",
       "      <td>No</td>\n",
       "    </tr>\n",
       "    <tr>\n",
       "      <th>1</th>\n",
       "      <td>1870557</td>\n",
       "      <td>7</td>\n",
       "      <td>2.000000</td>\n",
       "      <td>0</td>\n",
       "      <td>0</td>\n",
       "      <td>0</td>\n",
       "      <td>0</td>\n",
       "      <td>0</td>\n",
       "      <td>0</td>\n",
       "      <td>0</td>\n",
       "      <td>...</td>\n",
       "      <td>0</td>\n",
       "      <td>0.500000</td>\n",
       "      <td>0.280000</td>\n",
       "      <td>0</td>\n",
       "      <td>Yes</td>\n",
       "      <td>No</td>\n",
       "      <td>No</td>\n",
       "      <td>Yes</td>\n",
       "      <td>No</td>\n",
       "      <td>No</td>\n",
       "    </tr>\n",
       "    <tr>\n",
       "      <th>2</th>\n",
       "      <td>1475481</td>\n",
       "      <td>258</td>\n",
       "      <td>15.000000</td>\n",
       "      <td>10</td>\n",
       "      <td>10</td>\n",
       "      <td>77</td>\n",
       "      <td>184</td>\n",
       "      <td>46</td>\n",
       "      <td>132</td>\n",
       "      <td>256</td>\n",
       "      <td>...</td>\n",
       "      <td>0</td>\n",
       "      <td>0.540000</td>\n",
       "      <td>0.700000</td>\n",
       "      <td>0</td>\n",
       "      <td>No</td>\n",
       "      <td>No</td>\n",
       "      <td>No</td>\n",
       "      <td>Yes</td>\n",
       "      <td>No</td>\n",
       "      <td>No</td>\n",
       "    </tr>\n",
       "    <tr>\n",
       "      <th>3</th>\n",
       "      <td>1758220</td>\n",
       "      <td>46</td>\n",
       "      <td>2.000000</td>\n",
       "      <td>0</td>\n",
       "      <td>0</td>\n",
       "      <td>0</td>\n",
       "      <td>0</td>\n",
       "      <td>1</td>\n",
       "      <td>2</td>\n",
       "      <td>6</td>\n",
       "      <td>...</td>\n",
       "      <td>0</td>\n",
       "      <td>0.750000</td>\n",
       "      <td>0.900000</td>\n",
       "      <td>0</td>\n",
       "      <td>Yes</td>\n",
       "      <td>No</td>\n",
       "      <td>No</td>\n",
       "      <td>Yes</td>\n",
       "      <td>No</td>\n",
       "      <td>No</td>\n",
       "    </tr>\n",
       "    <tr>\n",
       "      <th>4</th>\n",
       "      <td>1360312</td>\n",
       "      <td>2</td>\n",
       "      <td>2.000000</td>\n",
       "      <td>0</td>\n",
       "      <td>4</td>\n",
       "      <td>6</td>\n",
       "      <td>10</td>\n",
       "      <td>2</td>\n",
       "      <td>2</td>\n",
       "      <td>5</td>\n",
       "      <td>...</td>\n",
       "      <td>0</td>\n",
       "      <td>0.970000</td>\n",
       "      <td>0.920000</td>\n",
       "      <td>0</td>\n",
       "      <td>No</td>\n",
       "      <td>No</td>\n",
       "      <td>No</td>\n",
       "      <td>Yes</td>\n",
       "      <td>No</td>\n",
       "      <td>No</td>\n",
       "    </tr>\n",
       "  </tbody>\n",
       "</table>\n",
       "<p>5 rows × 23 columns</p>\n",
       "</div>"
      ],
      "text/plain": [
       "       sku  national_inv  lead_time  in_transit_qty  forecast_3_month  \\\n",
       "0  1888279           117        NaN               0                 0   \n",
       "1  1870557             7   2.000000               0                 0   \n",
       "2  1475481           258  15.000000              10                10   \n",
       "3  1758220            46   2.000000               0                 0   \n",
       "4  1360312             2   2.000000               0                 4   \n",
       "\n",
       "   forecast_6_month  forecast_9_month  sales_1_month  sales_3_month  \\\n",
       "0                 0                 0              0              0   \n",
       "1                 0                 0              0              0   \n",
       "2                77               184             46            132   \n",
       "3                 0                 0              1              2   \n",
       "4                 6                10              2              2   \n",
       "\n",
       "   sales_6_month  ...  pieces_past_due  perf_6_month_avg perf_12_month_avg  \\\n",
       "0             15  ...                0        -99.000000        -99.000000   \n",
       "1              0  ...                0          0.500000          0.280000   \n",
       "2            256  ...                0          0.540000          0.700000   \n",
       "3              6  ...                0          0.750000          0.900000   \n",
       "4              5  ...                0          0.970000          0.920000   \n",
       "\n",
       "   local_bo_qty  deck_risk  oe_constraint  ppap_risk stop_auto_buy rev_stop  \\\n",
       "0             0         No             No        Yes           Yes       No   \n",
       "1             0        Yes             No         No           Yes       No   \n",
       "2             0         No             No         No           Yes       No   \n",
       "3             0        Yes             No         No           Yes       No   \n",
       "4             0         No             No         No           Yes       No   \n",
       "\n",
       "  went_on_backorder  \n",
       "0                No  \n",
       "1                No  \n",
       "2                No  \n",
       "3                No  \n",
       "4                No  \n",
       "\n",
       "[5 rows x 23 columns]"
      ]
     },
     "execution_count": 5,
     "metadata": {},
     "output_type": "execute_result"
    }
   ],
   "source": [
    "# display the top 5 rows of the dataframe\n",
    "hd.head()"
   ]
  },
  {
   "cell_type": "markdown",
   "id": "e8a72914",
   "metadata": {},
   "source": [
    "#### Lets take a glance at our dataframe and see how it looks"
   ]
  },
  {
   "cell_type": "code",
   "execution_count": 6,
   "id": "d81141db",
   "metadata": {},
   "outputs": [
    {
     "data": {
      "text/html": [
       "<div>\n",
       "<style scoped>\n",
       "    .dataframe tbody tr th:only-of-type {\n",
       "        vertical-align: middle;\n",
       "    }\n",
       "\n",
       "    .dataframe tbody tr th {\n",
       "        vertical-align: top;\n",
       "    }\n",
       "\n",
       "    .dataframe thead th {\n",
       "        text-align: right;\n",
       "    }\n",
       "</style>\n",
       "<table border=\"1\" class=\"dataframe\">\n",
       "  <thead>\n",
       "    <tr style=\"text-align: right;\">\n",
       "      <th></th>\n",
       "      <th>sku</th>\n",
       "      <th>national_inv</th>\n",
       "      <th>lead_time</th>\n",
       "      <th>in_transit_qty</th>\n",
       "      <th>forecast_3_month</th>\n",
       "      <th>forecast_6_month</th>\n",
       "      <th>forecast_9_month</th>\n",
       "      <th>sales_1_month</th>\n",
       "      <th>sales_3_month</th>\n",
       "      <th>sales_6_month</th>\n",
       "      <th>...</th>\n",
       "      <th>pieces_past_due</th>\n",
       "      <th>perf_6_month_avg</th>\n",
       "      <th>perf_12_month_avg</th>\n",
       "      <th>local_bo_qty</th>\n",
       "      <th>deck_risk</th>\n",
       "      <th>oe_constraint</th>\n",
       "      <th>ppap_risk</th>\n",
       "      <th>stop_auto_buy</th>\n",
       "      <th>rev_stop</th>\n",
       "      <th>went_on_backorder</th>\n",
       "    </tr>\n",
       "  </thead>\n",
       "  <tbody>\n",
       "    <tr>\n",
       "      <th>61584</th>\n",
       "      <td>1397275</td>\n",
       "      <td>6</td>\n",
       "      <td>8.000000</td>\n",
       "      <td>0</td>\n",
       "      <td>24</td>\n",
       "      <td>24</td>\n",
       "      <td>24</td>\n",
       "      <td>0</td>\n",
       "      <td>7</td>\n",
       "      <td>9</td>\n",
       "      <td>...</td>\n",
       "      <td>0</td>\n",
       "      <td>0.980000</td>\n",
       "      <td>0.980000</td>\n",
       "      <td>0</td>\n",
       "      <td>No</td>\n",
       "      <td>No</td>\n",
       "      <td>No</td>\n",
       "      <td>Yes</td>\n",
       "      <td>No</td>\n",
       "      <td>No</td>\n",
       "    </tr>\n",
       "    <tr>\n",
       "      <th>61585</th>\n",
       "      <td>3072139</td>\n",
       "      <td>130</td>\n",
       "      <td>2.000000</td>\n",
       "      <td>0</td>\n",
       "      <td>40</td>\n",
       "      <td>80</td>\n",
       "      <td>140</td>\n",
       "      <td>18</td>\n",
       "      <td>108</td>\n",
       "      <td>230</td>\n",
       "      <td>...</td>\n",
       "      <td>0</td>\n",
       "      <td>0.510000</td>\n",
       "      <td>0.280000</td>\n",
       "      <td>0</td>\n",
       "      <td>No</td>\n",
       "      <td>No</td>\n",
       "      <td>No</td>\n",
       "      <td>Yes</td>\n",
       "      <td>No</td>\n",
       "      <td>No</td>\n",
       "    </tr>\n",
       "    <tr>\n",
       "      <th>61586</th>\n",
       "      <td>1909363</td>\n",
       "      <td>135</td>\n",
       "      <td>9.000000</td>\n",
       "      <td>0</td>\n",
       "      <td>0</td>\n",
       "      <td>0</td>\n",
       "      <td>0</td>\n",
       "      <td>10</td>\n",
       "      <td>40</td>\n",
       "      <td>65</td>\n",
       "      <td>...</td>\n",
       "      <td>0</td>\n",
       "      <td>1.000000</td>\n",
       "      <td>0.990000</td>\n",
       "      <td>0</td>\n",
       "      <td>No</td>\n",
       "      <td>No</td>\n",
       "      <td>Yes</td>\n",
       "      <td>Yes</td>\n",
       "      <td>No</td>\n",
       "      <td>No</td>\n",
       "    </tr>\n",
       "    <tr>\n",
       "      <th>61587</th>\n",
       "      <td>1845783</td>\n",
       "      <td>63</td>\n",
       "      <td>NaN</td>\n",
       "      <td>0</td>\n",
       "      <td>0</td>\n",
       "      <td>0</td>\n",
       "      <td>0</td>\n",
       "      <td>452</td>\n",
       "      <td>1715</td>\n",
       "      <td>3425</td>\n",
       "      <td>...</td>\n",
       "      <td>0</td>\n",
       "      <td>-99.000000</td>\n",
       "      <td>-99.000000</td>\n",
       "      <td>1</td>\n",
       "      <td>No</td>\n",
       "      <td>No</td>\n",
       "      <td>No</td>\n",
       "      <td>No</td>\n",
       "      <td>No</td>\n",
       "      <td>Yes</td>\n",
       "    </tr>\n",
       "    <tr>\n",
       "      <th>61588</th>\n",
       "      <td>1200539</td>\n",
       "      <td>0</td>\n",
       "      <td>2.000000</td>\n",
       "      <td>0</td>\n",
       "      <td>8</td>\n",
       "      <td>8</td>\n",
       "      <td>8</td>\n",
       "      <td>0</td>\n",
       "      <td>1</td>\n",
       "      <td>1</td>\n",
       "      <td>...</td>\n",
       "      <td>0</td>\n",
       "      <td>0.790000</td>\n",
       "      <td>0.780000</td>\n",
       "      <td>0</td>\n",
       "      <td>Yes</td>\n",
       "      <td>No</td>\n",
       "      <td>No</td>\n",
       "      <td>Yes</td>\n",
       "      <td>No</td>\n",
       "      <td>Yes</td>\n",
       "    </tr>\n",
       "  </tbody>\n",
       "</table>\n",
       "<p>5 rows × 23 columns</p>\n",
       "</div>"
      ],
      "text/plain": [
       "           sku  national_inv  lead_time  in_transit_qty  forecast_3_month  \\\n",
       "61584  1397275             6   8.000000               0                24   \n",
       "61585  3072139           130   2.000000               0                40   \n",
       "61586  1909363           135   9.000000               0                 0   \n",
       "61587  1845783            63        NaN               0                 0   \n",
       "61588  1200539             0   2.000000               0                 8   \n",
       "\n",
       "       forecast_6_month  forecast_9_month  sales_1_month  sales_3_month  \\\n",
       "61584                24                24              0              7   \n",
       "61585                80               140             18            108   \n",
       "61586                 0                 0             10             40   \n",
       "61587                 0                 0            452           1715   \n",
       "61588                 8                 8              0              1   \n",
       "\n",
       "       sales_6_month  ...  pieces_past_due  perf_6_month_avg  \\\n",
       "61584              9  ...                0          0.980000   \n",
       "61585            230  ...                0          0.510000   \n",
       "61586             65  ...                0          1.000000   \n",
       "61587           3425  ...                0        -99.000000   \n",
       "61588              1  ...                0          0.790000   \n",
       "\n",
       "      perf_12_month_avg  local_bo_qty  deck_risk  oe_constraint  ppap_risk  \\\n",
       "61584          0.980000             0         No             No         No   \n",
       "61585          0.280000             0         No             No         No   \n",
       "61586          0.990000             0         No             No        Yes   \n",
       "61587        -99.000000             1         No             No         No   \n",
       "61588          0.780000             0        Yes             No         No   \n",
       "\n",
       "      stop_auto_buy rev_stop went_on_backorder  \n",
       "61584           Yes       No                No  \n",
       "61585           Yes       No                No  \n",
       "61586           Yes       No                No  \n",
       "61587            No       No               Yes  \n",
       "61588           Yes       No               Yes  \n",
       "\n",
       "[5 rows x 23 columns]"
      ]
     },
     "execution_count": 6,
     "metadata": {},
     "output_type": "execute_result"
    }
   ],
   "source": [
    "# display the bottom 5 rows of the dataframe\n",
    "hd.tail()"
   ]
  },
  {
   "cell_type": "code",
   "execution_count": 7,
   "id": "96dcdd3b",
   "metadata": {},
   "outputs": [
    {
     "name": "stdout",
     "output_type": "stream",
     "text": [
      "<class 'pandas.core.frame.DataFrame'>\n",
      "RangeIndex: 61589 entries, 0 to 61588\n",
      "Data columns (total 23 columns):\n",
      " #   Column             Non-Null Count  Dtype  \n",
      "---  ------             --------------  -----  \n",
      " 0   sku                61589 non-null  int64  \n",
      " 1   national_inv       61589 non-null  int64  \n",
      " 2   lead_time          58186 non-null  float64\n",
      " 3   in_transit_qty     61589 non-null  int64  \n",
      " 4   forecast_3_month   61589 non-null  int64  \n",
      " 5   forecast_6_month   61589 non-null  int64  \n",
      " 6   forecast_9_month   61589 non-null  int64  \n",
      " 7   sales_1_month      61589 non-null  int64  \n",
      " 8   sales_3_month      61589 non-null  int64  \n",
      " 9   sales_6_month      61589 non-null  int64  \n",
      " 10  sales_9_month      61589 non-null  int64  \n",
      " 11  min_bank           61589 non-null  int64  \n",
      " 12  potential_issue    61589 non-null  object \n",
      " 13  pieces_past_due    61589 non-null  int64  \n",
      " 14  perf_6_month_avg   61589 non-null  float64\n",
      " 15  perf_12_month_avg  61589 non-null  float64\n",
      " 16  local_bo_qty       61589 non-null  int64  \n",
      " 17  deck_risk          61589 non-null  object \n",
      " 18  oe_constraint      61589 non-null  object \n",
      " 19  ppap_risk          61589 non-null  object \n",
      " 20  stop_auto_buy      61589 non-null  object \n",
      " 21  rev_stop           61589 non-null  object \n",
      " 22  went_on_backorder  61589 non-null  object \n",
      "dtypes: float64(3), int64(13), object(7)\n",
      "memory usage: 10.8+ MB\n"
     ]
    }
   ],
   "source": [
    "# info () method prints information about the DataFrame.\n",
    "hd.info()"
   ]
  },
  {
   "cell_type": "markdown",
   "id": "3a5f4e0d",
   "metadata": {},
   "source": [
    "#### Dimensions of the data"
   ]
  },
  {
   "cell_type": "code",
   "execution_count": 8,
   "id": "dc8adcff",
   "metadata": {},
   "outputs": [
    {
     "data": {
      "text/plain": [
       "(61589, 23)"
      ]
     },
     "execution_count": 8,
     "metadata": {},
     "output_type": "execute_result"
    }
   ],
   "source": [
    "# 'shape' function gives the total number of rows and columns in the data\n",
    "hd.shape"
   ]
  },
  {
   "cell_type": "markdown",
   "id": "7cf52d41",
   "metadata": {},
   "source": [
    "- There are in total 61589 data points and 23 features in dataset. \n",
    "- Out of the 23 features 22 are independent variable and 1 is dependent variable (Target Variable).\n",
    "- The target variable is went_on_backorder."
   ]
  },
  {
   "cell_type": "markdown",
   "id": "aa845f9c",
   "metadata": {},
   "source": [
    "# 3.Data Analysis and Preparation\n",
    "Data preparation is the process of cleaning and transforming raw data before building predictive models.\n",
    "\n",
    "Here, we analyze and prepare data to perform classification techniques\n"
   ]
  },
  {
   "cell_type": "code",
   "execution_count": 9,
   "id": "4eea5425",
   "metadata": {},
   "outputs": [
    {
     "data": {
      "text/plain": [
       "sku                    int64\n",
       "national_inv           int64\n",
       "lead_time            float64\n",
       "in_transit_qty         int64\n",
       "forecast_3_month       int64\n",
       "forecast_6_month       int64\n",
       "forecast_9_month       int64\n",
       "sales_1_month          int64\n",
       "sales_3_month          int64\n",
       "sales_6_month          int64\n",
       "sales_9_month          int64\n",
       "min_bank               int64\n",
       "potential_issue       object\n",
       "pieces_past_due        int64\n",
       "perf_6_month_avg     float64\n",
       "perf_12_month_avg    float64\n",
       "local_bo_qty           int64\n",
       "deck_risk             object\n",
       "oe_constraint         object\n",
       "ppap_risk             object\n",
       "stop_auto_buy         object\n",
       "rev_stop              object\n",
       "went_on_backorder     object\n",
       "dtype: object"
      ]
     },
     "execution_count": 9,
     "metadata": {},
     "output_type": "execute_result"
    }
   ],
   "source": [
    "# 'dtypes' gives the data type for each column\n",
    "hd.dtypes"
   ]
  },
  {
   "cell_type": "code",
   "execution_count": 10,
   "id": "682f6d2a",
   "metadata": {},
   "outputs": [
    {
     "data": {
      "text/plain": [
       "sku                     0\n",
       "national_inv            0\n",
       "lead_time            3403\n",
       "in_transit_qty          0\n",
       "forecast_3_month        0\n",
       "forecast_6_month        0\n",
       "forecast_9_month        0\n",
       "sales_1_month           0\n",
       "sales_3_month           0\n",
       "sales_6_month           0\n",
       "sales_9_month           0\n",
       "min_bank                0\n",
       "potential_issue         0\n",
       "pieces_past_due         0\n",
       "perf_6_month_avg        0\n",
       "perf_12_month_avg       0\n",
       "local_bo_qty            0\n",
       "deck_risk               0\n",
       "oe_constraint           0\n",
       "ppap_risk               0\n",
       "stop_auto_buy           0\n",
       "rev_stop                0\n",
       "went_on_backorder       0\n",
       "dtype: int64"
      ]
     },
     "execution_count": 10,
     "metadata": {},
     "output_type": "execute_result"
    }
   ],
   "source": [
    "# isnull().sum() returns the sum of total no of missing values in each and every column.\n",
    "hd.isnull().sum()"
   ]
  },
  {
   "cell_type": "code",
   "execution_count": 11,
   "id": "9654d501",
   "metadata": {},
   "outputs": [
    {
     "data": {
      "text/plain": [
       "['lead_time']"
      ]
     },
     "execution_count": 11,
     "metadata": {},
     "output_type": "execute_result"
    }
   ],
   "source": [
    "# [feature].isnull().sum() is used to know in which column value is missing.\n",
    "null_values = [feature for feature in hd.columns if hd[feature].isnull().sum()]\n",
    "null_values"
   ]
  },
  {
   "cell_type": "markdown",
   "id": "89050daf",
   "metadata": {},
   "source": [
    "- The feature lead_time has missing values.\n",
    "- The number of missing values are 3403.\n",
    "- The missing values is 5.5% of overall dataset. Hence these values can be dropped or they can be replaced with mean."
   ]
  },
  {
   "cell_type": "code",
   "execution_count": 12,
   "id": "f1ba2d8d",
   "metadata": {},
   "outputs": [],
   "source": [
    "#From above we can see there are 3403 nulll values, so we will remove the null values.\n",
    "hd.dropna(inplace = True)"
   ]
  },
  {
   "cell_type": "markdown",
   "id": "04fd9f87",
   "metadata": {},
   "source": [
    "The null values can also be replaced by mean but they only constitute 5%, hence the data was dropped."
   ]
  },
  {
   "cell_type": "markdown",
   "id": "a846235d",
   "metadata": {},
   "source": [
    "#### 1. For numerical variables, use the describe()"
   ]
  },
  {
   "cell_type": "code",
   "execution_count": 13,
   "id": "5b2162ef",
   "metadata": {},
   "outputs": [
    {
     "data": {
      "text/html": [
       "<div>\n",
       "<style scoped>\n",
       "    .dataframe tbody tr th:only-of-type {\n",
       "        vertical-align: middle;\n",
       "    }\n",
       "\n",
       "    .dataframe tbody tr th {\n",
       "        vertical-align: top;\n",
       "    }\n",
       "\n",
       "    .dataframe thead th {\n",
       "        text-align: right;\n",
       "    }\n",
       "</style>\n",
       "<table border=\"1\" class=\"dataframe\">\n",
       "  <thead>\n",
       "    <tr style=\"text-align: right;\">\n",
       "      <th></th>\n",
       "      <th>sku</th>\n",
       "      <th>national_inv</th>\n",
       "      <th>lead_time</th>\n",
       "      <th>in_transit_qty</th>\n",
       "      <th>forecast_3_month</th>\n",
       "      <th>forecast_6_month</th>\n",
       "      <th>forecast_9_month</th>\n",
       "      <th>sales_1_month</th>\n",
       "      <th>sales_3_month</th>\n",
       "      <th>sales_6_month</th>\n",
       "      <th>sales_9_month</th>\n",
       "      <th>min_bank</th>\n",
       "      <th>pieces_past_due</th>\n",
       "      <th>perf_6_month_avg</th>\n",
       "      <th>perf_12_month_avg</th>\n",
       "      <th>local_bo_qty</th>\n",
       "    </tr>\n",
       "  </thead>\n",
       "  <tbody>\n",
       "    <tr>\n",
       "      <th>count</th>\n",
       "      <td>58186.000000</td>\n",
       "      <td>58186.000000</td>\n",
       "      <td>58186.000000</td>\n",
       "      <td>58186.000000</td>\n",
       "      <td>58186.000000</td>\n",
       "      <td>58186.000000</td>\n",
       "      <td>58186.000000</td>\n",
       "      <td>58186.000000</td>\n",
       "      <td>58186.000000</td>\n",
       "      <td>58186.000000</td>\n",
       "      <td>58186.000000</td>\n",
       "      <td>58186.000000</td>\n",
       "      <td>58186.000000</td>\n",
       "      <td>58186.000000</td>\n",
       "      <td>58186.000000</td>\n",
       "      <td>58186.000000</td>\n",
       "    </tr>\n",
       "    <tr>\n",
       "      <th>mean</th>\n",
       "      <td>2036022.734885</td>\n",
       "      <td>281.245987</td>\n",
       "      <td>7.559619</td>\n",
       "      <td>31.338123</td>\n",
       "      <td>178.092909</td>\n",
       "      <td>331.301396</td>\n",
       "      <td>477.100196</td>\n",
       "      <td>45.347575</td>\n",
       "      <td>153.180610</td>\n",
       "      <td>288.828137</td>\n",
       "      <td>428.908053</td>\n",
       "      <td>43.424415</td>\n",
       "      <td>1.696766</td>\n",
       "      <td>-0.840541</td>\n",
       "      <td>-0.416599</td>\n",
       "      <td>1.259977</td>\n",
       "    </tr>\n",
       "    <tr>\n",
       "      <th>std</th>\n",
       "      <td>655977.881087</td>\n",
       "      <td>4321.329801</td>\n",
       "      <td>6.498952</td>\n",
       "      <td>814.665767</td>\n",
       "      <td>5438.487029</td>\n",
       "      <td>10054.555714</td>\n",
       "      <td>14609.023092</td>\n",
       "      <td>1408.074630</td>\n",
       "      <td>5360.176586</td>\n",
       "      <td>9101.474366</td>\n",
       "      <td>13041.833392</td>\n",
       "      <td>979.291691</td>\n",
       "      <td>43.525034</td>\n",
       "      <td>12.567315</td>\n",
       "      <td>10.786604</td>\n",
       "      <td>30.819641</td>\n",
       "    </tr>\n",
       "    <tr>\n",
       "      <th>min</th>\n",
       "      <td>1111623.000000</td>\n",
       "      <td>-2999.000000</td>\n",
       "      <td>0.000000</td>\n",
       "      <td>0.000000</td>\n",
       "      <td>0.000000</td>\n",
       "      <td>0.000000</td>\n",
       "      <td>0.000000</td>\n",
       "      <td>0.000000</td>\n",
       "      <td>0.000000</td>\n",
       "      <td>0.000000</td>\n",
       "      <td>0.000000</td>\n",
       "      <td>0.000000</td>\n",
       "      <td>0.000000</td>\n",
       "      <td>-99.000000</td>\n",
       "      <td>-99.000000</td>\n",
       "      <td>0.000000</td>\n",
       "    </tr>\n",
       "    <tr>\n",
       "      <th>25%</th>\n",
       "      <td>1497660.500000</td>\n",
       "      <td>3.000000</td>\n",
       "      <td>4.000000</td>\n",
       "      <td>0.000000</td>\n",
       "      <td>0.000000</td>\n",
       "      <td>0.000000</td>\n",
       "      <td>0.000000</td>\n",
       "      <td>0.000000</td>\n",
       "      <td>0.000000</td>\n",
       "      <td>0.000000</td>\n",
       "      <td>0.000000</td>\n",
       "      <td>0.000000</td>\n",
       "      <td>0.000000</td>\n",
       "      <td>0.680000</td>\n",
       "      <td>0.670000</td>\n",
       "      <td>0.000000</td>\n",
       "    </tr>\n",
       "    <tr>\n",
       "      <th>50%</th>\n",
       "      <td>1896924.000000</td>\n",
       "      <td>10.000000</td>\n",
       "      <td>8.000000</td>\n",
       "      <td>0.000000</td>\n",
       "      <td>0.000000</td>\n",
       "      <td>0.000000</td>\n",
       "      <td>1.000000</td>\n",
       "      <td>0.000000</td>\n",
       "      <td>2.000000</td>\n",
       "      <td>4.000000</td>\n",
       "      <td>6.000000</td>\n",
       "      <td>0.000000</td>\n",
       "      <td>0.000000</td>\n",
       "      <td>0.830000</td>\n",
       "      <td>0.820000</td>\n",
       "      <td>0.000000</td>\n",
       "    </tr>\n",
       "    <tr>\n",
       "      <th>75%</th>\n",
       "      <td>2313823.000000</td>\n",
       "      <td>55.000000</td>\n",
       "      <td>8.000000</td>\n",
       "      <td>0.000000</td>\n",
       "      <td>14.000000</td>\n",
       "      <td>28.000000</td>\n",
       "      <td>42.000000</td>\n",
       "      <td>6.000000</td>\n",
       "      <td>18.000000</td>\n",
       "      <td>36.000000</td>\n",
       "      <td>54.000000</td>\n",
       "      <td>4.000000</td>\n",
       "      <td>0.000000</td>\n",
       "      <td>0.970000</td>\n",
       "      <td>0.950000</td>\n",
       "      <td>0.000000</td>\n",
       "    </tr>\n",
       "    <tr>\n",
       "      <th>max</th>\n",
       "      <td>3284895.000000</td>\n",
       "      <td>673445.000000</td>\n",
       "      <td>52.000000</td>\n",
       "      <td>170976.000000</td>\n",
       "      <td>1126656.000000</td>\n",
       "      <td>2094336.000000</td>\n",
       "      <td>3062016.000000</td>\n",
       "      <td>295197.000000</td>\n",
       "      <td>934593.000000</td>\n",
       "      <td>1799099.000000</td>\n",
       "      <td>2631590.000000</td>\n",
       "      <td>192978.000000</td>\n",
       "      <td>7392.000000</td>\n",
       "      <td>1.000000</td>\n",
       "      <td>1.000000</td>\n",
       "      <td>2999.000000</td>\n",
       "    </tr>\n",
       "  </tbody>\n",
       "</table>\n",
       "</div>"
      ],
      "text/plain": [
       "                 sku  national_inv    lead_time  in_transit_qty  \\\n",
       "count   58186.000000  58186.000000 58186.000000    58186.000000   \n",
       "mean  2036022.734885    281.245987     7.559619       31.338123   \n",
       "std    655977.881087   4321.329801     6.498952      814.665767   \n",
       "min   1111623.000000  -2999.000000     0.000000        0.000000   \n",
       "25%   1497660.500000      3.000000     4.000000        0.000000   \n",
       "50%   1896924.000000     10.000000     8.000000        0.000000   \n",
       "75%   2313823.000000     55.000000     8.000000        0.000000   \n",
       "max   3284895.000000 673445.000000    52.000000   170976.000000   \n",
       "\n",
       "       forecast_3_month  forecast_6_month  forecast_9_month  sales_1_month  \\\n",
       "count      58186.000000      58186.000000      58186.000000   58186.000000   \n",
       "mean         178.092909        331.301396        477.100196      45.347575   \n",
       "std         5438.487029      10054.555714      14609.023092    1408.074630   \n",
       "min            0.000000          0.000000          0.000000       0.000000   \n",
       "25%            0.000000          0.000000          0.000000       0.000000   \n",
       "50%            0.000000          0.000000          1.000000       0.000000   \n",
       "75%           14.000000         28.000000         42.000000       6.000000   \n",
       "max      1126656.000000    2094336.000000    3062016.000000  295197.000000   \n",
       "\n",
       "       sales_3_month  sales_6_month  sales_9_month      min_bank  \\\n",
       "count   58186.000000   58186.000000   58186.000000  58186.000000   \n",
       "mean      153.180610     288.828137     428.908053     43.424415   \n",
       "std      5360.176586    9101.474366   13041.833392    979.291691   \n",
       "min         0.000000       0.000000       0.000000      0.000000   \n",
       "25%         0.000000       0.000000       0.000000      0.000000   \n",
       "50%         2.000000       4.000000       6.000000      0.000000   \n",
       "75%        18.000000      36.000000      54.000000      4.000000   \n",
       "max    934593.000000 1799099.000000 2631590.000000 192978.000000   \n",
       "\n",
       "       pieces_past_due  perf_6_month_avg  perf_12_month_avg  local_bo_qty  \n",
       "count     58186.000000      58186.000000       58186.000000  58186.000000  \n",
       "mean          1.696766         -0.840541          -0.416599      1.259977  \n",
       "std          43.525034         12.567315          10.786604     30.819641  \n",
       "min           0.000000        -99.000000         -99.000000      0.000000  \n",
       "25%           0.000000          0.680000           0.670000      0.000000  \n",
       "50%           0.000000          0.830000           0.820000      0.000000  \n",
       "75%           0.000000          0.970000           0.950000      0.000000  \n",
       "max        7392.000000          1.000000           1.000000   2999.000000  "
      ]
     },
     "execution_count": 13,
     "metadata": {},
     "output_type": "execute_result"
    }
   ],
   "source": [
    "# the describe() returns the statistical summary of the variables\n",
    "# by default, it returns the summary of numerical variables\n",
    "hd.describe()"
   ]
  },
  {
   "cell_type": "markdown",
   "id": "a07dce1e",
   "metadata": {},
   "source": [
    "- From the above describe we can see that the scale of all features are not same. So, scaling needs to be done.\n",
    "- In some of the features  like perf_6_month_avg & perf_12_month_avg the mean and min are negative that means there were some of the missing values that were replaced with -99.\n",
    "- Even in some of the features it can be observed that 25%, 50%, 75% values are zero which indicates data is heavily skewed. There are some other possibilities like data is incomplete but we will be moving forward assuming data to be skewed.\n",
    "- The difference between 75% and max values indicate that the data has many outliers. "
   ]
  },
  {
   "cell_type": "markdown",
   "id": "7128753c",
   "metadata": {},
   "source": [
    "### Checking the ratios of features present in the dataset to understand the balance of the dataset."
   ]
  },
  {
   "cell_type": "code",
   "execution_count": 14,
   "id": "5667a115",
   "metadata": {},
   "outputs": [
    {
     "data": {
      "text/plain": [
       "No     47217\n",
       "Yes    10969\n",
       "Name: went_on_backorder, dtype: int64"
      ]
     },
     "execution_count": 14,
     "metadata": {},
     "output_type": "execute_result"
    }
   ],
   "source": [
    "# to count the values of target variable\n",
    "hd.went_on_backorder.value_counts()"
   ]
  },
  {
   "cell_type": "markdown",
   "id": "5c7b8ee9",
   "metadata": {},
   "source": [
    "- The target variable is a categroical variables consisting \"Yes\" \"No\"\n",
    "- The count of \"Yes\" and \"No\" indicates that the data is imbalance as the majority of the dataset has \"No\".\n",
    "- 81% of data consist of \"No\" while 19% data consist of \"Yes\".\n",
    "- This means the biasness of dataset needs to be fixed."
   ]
  },
  {
   "cell_type": "code",
   "execution_count": 15,
   "id": "bae695e2",
   "metadata": {},
   "outputs": [
    {
     "data": {
      "text/plain": [
       "No     58107\n",
       "Yes       79\n",
       "Name: potential_issue, dtype: int64"
      ]
     },
     "execution_count": 15,
     "metadata": {},
     "output_type": "execute_result"
    }
   ],
   "source": [
    "# to count the values of independent variable\n",
    "hd.potential_issue.value_counts()"
   ]
  },
  {
   "cell_type": "code",
   "execution_count": 16,
   "id": "83ad5f3a",
   "metadata": {},
   "outputs": [
    {
     "data": {
      "text/plain": [
       "No     58174\n",
       "Yes       12\n",
       "Name: oe_constraint, dtype: int64"
      ]
     },
     "execution_count": 16,
     "metadata": {},
     "output_type": "execute_result"
    }
   ],
   "source": [
    "# to count the values of independent variable\n",
    "hd.oe_constraint.value_counts()"
   ]
  },
  {
   "cell_type": "code",
   "execution_count": 17,
   "id": "bb07a212",
   "metadata": {},
   "outputs": [
    {
     "data": {
      "text/plain": [
       "No     50916\n",
       "Yes     7270\n",
       "Name: ppap_risk, dtype: int64"
      ]
     },
     "execution_count": 17,
     "metadata": {},
     "output_type": "execute_result"
    }
   ],
   "source": [
    "# to count the values of independent variable\n",
    "hd.ppap_risk.value_counts()"
   ]
  },
  {
   "cell_type": "code",
   "execution_count": 18,
   "id": "2e35d2b4",
   "metadata": {},
   "outputs": [
    {
     "data": {
      "text/plain": [
       "Yes    56736\n",
       "No      1450\n",
       "Name: stop_auto_buy, dtype: int64"
      ]
     },
     "execution_count": 18,
     "metadata": {},
     "output_type": "execute_result"
    }
   ],
   "source": [
    "# to count the values of independent variable\n",
    "hd.stop_auto_buy.value_counts()"
   ]
  },
  {
   "cell_type": "markdown",
   "id": "b821cf51",
   "metadata": {},
   "source": [
    "- From the above observation it can be seen that these features are categorical variables and to move forward with the creation of the predictive model Encoding needs to be done.\n",
    "- All the \"Yes\" needs to be converted to 1 \n",
    "- All the \"No\" needs to be converted to 0"
   ]
  },
  {
   "cell_type": "code",
   "execution_count": 19,
   "id": "e6361933",
   "metadata": {},
   "outputs": [
    {
     "data": {
      "text/plain": [
       "1870557    1\n",
       "3182134    1\n",
       "2890741    1\n",
       "3249358    1\n",
       "2806618    1\n",
       "          ..\n",
       "2847991    1\n",
       "1778085    1\n",
       "1362613    1\n",
       "2249028    1\n",
       "1200539    1\n",
       "Name: sku, Length: 58186, dtype: int64"
      ]
     },
     "execution_count": 19,
     "metadata": {},
     "output_type": "execute_result"
    }
   ],
   "source": [
    "# to count the values of independent variable\n",
    "hd.sku.value_counts()"
   ]
  },
  {
   "cell_type": "markdown",
   "id": "893161ae",
   "metadata": {},
   "source": [
    "- From the above code we can see that all the values in feature sku is equal to number of rows in the dataset.\n",
    "- This means the feature sku can be dropped."
   ]
  },
  {
   "cell_type": "code",
   "execution_count": 20,
   "id": "c0bd20e1",
   "metadata": {},
   "outputs": [],
   "source": [
    "#Dropping first column\n",
    "hd.drop(['sku'], axis = 1,inplace=True) "
   ]
  },
  {
   "cell_type": "markdown",
   "id": "dec1f8dc",
   "metadata": {},
   "source": [
    "### Data Visualization"
   ]
  },
  {
   "cell_type": "code",
   "execution_count": 21,
   "id": "0dc4b7d7",
   "metadata": {},
   "outputs": [],
   "source": [
    "# 'Matplotlib' is a data visualization library for 2D and 3D plots, built on numpy\n",
    "# 'Figure' module is used to control the default spacing of the subplots and top level container for all plot elements\n",
    "# 'PyLab' aims to provide support for device control and experiment automation\n",
    "import matplotlib.pyplot as plt\n",
    "from matplotlib.pyplot import figure\n",
    "import pylab"
   ]
  },
  {
   "cell_type": "code",
   "execution_count": 22,
   "id": "bc3625b8",
   "metadata": {},
   "outputs": [
    {
     "data": {
      "text/plain": [
       "<seaborn.axisgrid.PairGrid at 0x1a5e7346c10>"
      ]
     },
     "execution_count": 22,
     "metadata": {},
     "output_type": "execute_result"
    },
    {
     "data": {
      "image/png": "[encoded data removed]",
      "text/plain": [
       "<Figure size 824.75x720 with 20 Axes>"
      ]
     },
     "metadata": {
      "needs_background": "light"
     },
     "output_type": "display_data"
    }
   ],
   "source": [
    "# pairs plot used to see both distribution of single variables and relationships between two variables and identify trends for follow-up analysis\n",
    "sns.pairplot(hd[['national_inv','min_bank','forecast_6_month','sales_1_month','went_on_backorder']],hue = 'went_on_backorder')"
   ]
  },
  {
   "cell_type": "markdown",
   "id": "2d98b7cb",
   "metadata": {},
   "source": [
    "### Boxplot for Continuous features"
   ]
  },
  {
   "cell_type": "code",
   "execution_count": 23,
   "id": "f333a3cf",
   "metadata": {},
   "outputs": [
    {
     "data": {
      "text/plain": [
       "Text(0.5, 1.0, 'Box plot of national_inv')"
      ]
     },
     "execution_count": 23,
     "metadata": {},
     "output_type": "execute_result"
    },
    {
     "data": {
      "image/png": "[encoded data removed]",
      "text/plain": [
       "<Figure size 360x360 with 1 Axes>"
      ]
     },
     "metadata": {},
     "output_type": "display_data"
    }
   ],
   "source": [
    "sns.set(rc={'figure.figsize':(5,5)})\n",
    "sns.boxplot(x='went_on_backorder',y='national_inv', data=hd).set_title('Box plot of national_inv')"
   ]
  },
  {
   "cell_type": "code",
   "execution_count": 24,
   "id": "7ca558da",
   "metadata": {},
   "outputs": [
    {
     "data": {
      "text/plain": [
       "Text(0.5, 1.0, 'Box plot of lead_time')"
      ]
     },
     "execution_count": 24,
     "metadata": {},
     "output_type": "execute_result"
    },
    {
     "data": {
      "image/png": "[encoded data removed]",
      "text/plain": [
       "<Figure size 360x360 with 1 Axes>"
      ]
     },
     "metadata": {},
     "output_type": "display_data"
    }
   ],
   "source": [
    "sns.boxplot(x='went_on_backorder',y='lead_time', data=hd).set_title('Box plot of lead_time')"
   ]
  },
  {
   "cell_type": "code",
   "execution_count": 25,
   "id": "363aaaf1",
   "metadata": {},
   "outputs": [
    {
     "data": {
      "text/plain": [
       "Text(0.5, 1.0, 'Box plot of in_transit_qty')"
      ]
     },
     "execution_count": 25,
     "metadata": {},
     "output_type": "execute_result"
    },
    {
     "data": {
      "image/png": "[encoded data removed]",
      "text/plain": [
       "<Figure size 360x360 with 1 Axes>"
      ]
     },
     "metadata": {},
     "output_type": "display_data"
    }
   ],
   "source": [
    "sns.boxplot(x='went_on_backorder',y='in_transit_qty', data=hd).set_title('Box plot of in_transit_qty')"
   ]
  },
  {
   "cell_type": "code",
   "execution_count": 26,
   "id": "32be4735",
   "metadata": {},
   "outputs": [
    {
     "data": {
      "text/plain": [
       "Text(0.5, 1.0, 'Box plot of forecast_3_month')"
      ]
     },
     "execution_count": 26,
     "metadata": {},
     "output_type": "execute_result"
    },
    {
     "data": {
      "image/png": "[encoded data removed]",
      "text/plain": [
       "<Figure size 360x360 with 1 Axes>"
      ]
     },
     "metadata": {},
     "output_type": "display_data"
    }
   ],
   "source": [
    "sns.boxplot(x='went_on_backorder',y='forecast_3_month', data=hd).set_title('Box plot of forecast_3_month')"
   ]
  },
  {
   "cell_type": "code",
   "execution_count": 27,
   "id": "6299d6c4",
   "metadata": {},
   "outputs": [
    {
     "data": {
      "text/plain": [
       "Text(0.5, 1.0, 'Box plot of forecast_6_month')"
      ]
     },
     "execution_count": 27,
     "metadata": {},
     "output_type": "execute_result"
    },
    {
     "data": {
      "image/png": "[encoded data removed]",
      "text/plain": [
       "<Figure size 360x360 with 1 Axes>"
      ]
     },
     "metadata": {},
     "output_type": "display_data"
    }
   ],
   "source": [
    "sns.boxplot(x='went_on_backorder',y='forecast_6_month', data=hd).set_title('Box plot of forecast_6_month')"
   ]
  },
  {
   "cell_type": "code",
   "execution_count": 28,
   "id": "66250583",
   "metadata": {},
   "outputs": [
    {
     "data": {
      "text/plain": [
       "Text(0.5, 1.0, 'Box plot of forecast_9_month')"
      ]
     },
     "execution_count": 28,
     "metadata": {},
     "output_type": "execute_result"
    },
    {
     "data": {
      "image/png": "[encoded data removed]",
      "text/plain": [
       "<Figure size 360x360 with 1 Axes>"
      ]
     },
     "metadata": {},
     "output_type": "display_data"
    }
   ],
   "source": [
    "sns.boxplot(x='went_on_backorder',y='forecast_9_month', data=hd).set_title('Box plot of forecast_9_month')"
   ]
  },
  {
   "cell_type": "code",
   "execution_count": 29,
   "id": "675fd4f8",
   "metadata": {},
   "outputs": [
    {
     "data": {
      "text/plain": [
       "Text(0.5, 1.0, 'Box plot of sales_1_month')"
      ]
     },
     "execution_count": 29,
     "metadata": {},
     "output_type": "execute_result"
    },
    {
     "data": {
      "image/png": "[encoded data removed]",
      "text/plain": [
       "<Figure size 360x360 with 1 Axes>"
      ]
     },
     "metadata": {},
     "output_type": "display_data"
    }
   ],
   "source": [
    "sns.boxplot(x='went_on_backorder',y='sales_1_month', data=hd).set_title('Box plot of sales_1_month')"
   ]
  },
  {
   "cell_type": "code",
   "execution_count": 30,
   "id": "eb479fda",
   "metadata": {},
   "outputs": [
    {
     "data": {
      "text/plain": [
       "Text(0.5, 1.0, 'Box plot of sales_3_month')"
      ]
     },
     "execution_count": 30,
     "metadata": {},
     "output_type": "execute_result"
    },
    {
     "data": {
      "image/png": "[encoded data removed]",
      "text/plain": [
       "<Figure size 360x360 with 1 Axes>"
      ]
     },
     "metadata": {},
     "output_type": "display_data"
    }
   ],
   "source": [
    "sns.boxplot(x='went_on_backorder',y='sales_3_month', data=hd).set_title('Box plot of sales_3_month')"
   ]
  },
  {
   "cell_type": "code",
   "execution_count": 31,
   "id": "a23091eb",
   "metadata": {},
   "outputs": [
    {
     "data": {
      "text/plain": [
       "Text(0.5, 1.0, 'Box plot of sales_6_month')"
      ]
     },
     "execution_count": 31,
     "metadata": {},
     "output_type": "execute_result"
    },
    {
     "data": {
      "image/png": "[encoded data removed]",
      "text/plain": [
       "<Figure size 360x360 with 1 Axes>"
      ]
     },
     "metadata": {},
     "output_type": "display_data"
    }
   ],
   "source": [
    "sns.boxplot(x='went_on_backorder',y='sales_6_month', data=hd).set_title('Box plot of sales_6_month')"
   ]
  },
  {
   "cell_type": "code",
   "execution_count": 32,
   "id": "2b493af2",
   "metadata": {},
   "outputs": [
    {
     "data": {
      "text/plain": [
       "Text(0.5, 1.0, 'Box plot of sales_9_month')"
      ]
     },
     "execution_count": 32,
     "metadata": {},
     "output_type": "execute_result"
    },
    {
     "data": {
      "image/png": "[encoded data removed]",
      "text/plain": [
       "<Figure size 360x360 with 1 Axes>"
      ]
     },
     "metadata": {},
     "output_type": "display_data"
    }
   ],
   "source": [
    "sns.boxplot(x='went_on_backorder',y='sales_9_month', data=hd).set_title('Box plot of sales_9_month')"
   ]
  },
  {
   "cell_type": "code",
   "execution_count": 33,
   "id": "a73df843",
   "metadata": {},
   "outputs": [
    {
     "data": {
      "text/plain": [
       "Text(0.5, 1.0, 'Box plot of min_bank')"
      ]
     },
     "execution_count": 33,
     "metadata": {},
     "output_type": "execute_result"
    },
    {
     "data": {
      "image/png": "[encoded data removed]",
      "text/plain": [
       "<Figure size 360x360 with 1 Axes>"
      ]
     },
     "metadata": {},
     "output_type": "display_data"
    }
   ],
   "source": [
    "sns.boxplot(x='went_on_backorder',y='min_bank', data=hd).set_title('Box plot of min_bank')"
   ]
  },
  {
   "cell_type": "markdown",
   "id": "f93278d9",
   "metadata": {},
   "source": [
    "- From the above boxplot of lead time we can see that the data is somewhat equally distributed as the mean and standard deviation are close and there is less difference between 75% and max value of Lead time.\n",
    "- Apart from lead time all the other features are heavily left skewed. This means data has many outliers. \n",
    "- As we know boxplot is made to higlight values between 25% and 75% but in this case we need to make boxplot containing values between 0.05% and 90%. \n",
    "- The maximum dataset has outliers so removing outliers using IQR will not be the right step.\n",
    "- Even from pairplot it can be seen that all the values are not being showed."
   ]
  },
  {
   "cell_type": "code",
   "execution_count": 34,
   "id": "9a0c6a87",
   "metadata": {},
   "outputs": [
    {
     "data": {
      "text/plain": [
       "Text(0.5, 1.0, 'Box plot of national_inv from 0.1th to 90th percentile')"
      ]
     },
     "execution_count": 34,
     "metadata": {},
     "output_type": "execute_result"
    },
    {
     "data": {
      "image/png": "[encoded data removed]",
      "text/plain": [
       "<Figure size 360x360 with 1 Axes>"
      ]
     },
     "metadata": {},
     "output_type": "display_data"
    }
   ],
   "source": [
    "sns.boxplot(x='went_on_backorder',y='national_inv', data=hd[(hd.national_inv < hd.national_inv.quantile(0.90))  & (hd.national_inv > hd.national_inv.quantile(0.001)) ]).set_title('Box plot of national_inv from 0.1th to 90th percentile')"
   ]
  },
  {
   "cell_type": "code",
   "execution_count": 35,
   "id": "051300e0",
   "metadata": {},
   "outputs": [
    {
     "data": {
      "text/plain": [
       "Text(0.5, 1.0, 'Box plot of in_transit_qty from 0 to 90th percentile')"
      ]
     },
     "execution_count": 35,
     "metadata": {},
     "output_type": "execute_result"
    },
    {
     "data": {
      "image/png": "[encoded data removed]",
      "text/plain": [
       "<Figure size 360x360 with 1 Axes>"
      ]
     },
     "metadata": {},
     "output_type": "display_data"
    }
   ],
   "source": [
    "sns.boxplot(x='went_on_backorder',y='in_transit_qty', data=hd[(hd.in_transit_qty < hd.in_transit_qty.quantile(0.90))  & (hd.in_transit_qty > hd.in_transit_qty.quantile(0))]).set_title('Box plot of in_transit_qty from 0 to 90th percentile')"
   ]
  },
  {
   "cell_type": "code",
   "execution_count": 36,
   "id": "89ea8767",
   "metadata": {},
   "outputs": [
    {
     "data": {
      "text/plain": [
       "Text(0.5, 1.0, 'Box plot of forecast_3_month from 0 to 90th percentile')"
      ]
     },
     "execution_count": 36,
     "metadata": {},
     "output_type": "execute_result"
    },
    {
     "data": {
      "image/png": "[encoded data removed]",
      "text/plain": [
       "<Figure size 360x360 with 1 Axes>"
      ]
     },
     "metadata": {},
     "output_type": "display_data"
    }
   ],
   "source": [
    "sns.boxplot(x='went_on_backorder',y='forecast_3_month', data=hd[(hd.forecast_3_month < hd.forecast_3_month.quantile(0.90))  & (hd.forecast_3_month > hd.forecast_3_month.quantile(0))]).set_title('Box plot of forecast_3_month from 0 to 90th percentile')"
   ]
  },
  {
   "cell_type": "code",
   "execution_count": 37,
   "id": "70efcc8e",
   "metadata": {},
   "outputs": [
    {
     "data": {
      "text/plain": [
       "Text(0.5, 1.0, 'Box plot of forecast_6_month from 0 to 90th percentile')"
      ]
     },
     "execution_count": 37,
     "metadata": {},
     "output_type": "execute_result"
    },
    {
     "data": {
      "image/png": "[encoded data removed]",
      "text/plain": [
       "<Figure size 360x360 with 1 Axes>"
      ]
     },
     "metadata": {},
     "output_type": "display_data"
    }
   ],
   "source": [
    "sns.boxplot(x='went_on_backorder',y='forecast_6_month', data=hd[(hd.forecast_6_month < hd.forecast_6_month.quantile(0.90))  & (hd.forecast_6_month > hd.forecast_6_month.quantile(0))]).set_title('Box plot of forecast_6_month from 0 to 90th percentile')"
   ]
  },
  {
   "cell_type": "code",
   "execution_count": 38,
   "id": "42b1606c",
   "metadata": {},
   "outputs": [
    {
     "data": {
      "text/plain": [
       "Text(0.5, 1.0, 'Box plot of forecast_9_month from 0 to 90th percentile')"
      ]
     },
     "execution_count": 38,
     "metadata": {},
     "output_type": "execute_result"
    },
    {
     "data": {
      "image/png": "[encoded data removed]",
      "text/plain": [
       "<Figure size 360x360 with 1 Axes>"
      ]
     },
     "metadata": {},
     "output_type": "display_data"
    }
   ],
   "source": [
    "sns.boxplot(x='went_on_backorder',y='forecast_9_month', data=hd[(hd.forecast_9_month < hd.forecast_9_month.quantile(0.80))  & (hd.forecast_9_month > hd.forecast_9_month.quantile(0))]).set_title('Box plot of forecast_9_month from 0 to 90th percentile')"
   ]
  },
  {
   "cell_type": "code",
   "execution_count": 39,
   "id": "ddf647f8",
   "metadata": {},
   "outputs": [
    {
     "data": {
      "text/plain": [
       "Text(0.5, 1.0, 'Box plot of sales_1_month from 0 to 80th percentile')"
      ]
     },
     "execution_count": 39,
     "metadata": {},
     "output_type": "execute_result"
    },
    {
     "data": {
      "image/png": "[encoded data removed]",
      "text/plain": [
       "<Figure size 360x360 with 1 Axes>"
      ]
     },
     "metadata": {},
     "output_type": "display_data"
    }
   ],
   "source": [
    "sns.boxplot(x='went_on_backorder',y='sales_1_month', data=hd[(hd.sales_1_month < hd.sales_1_month.quantile(0.90))  & (hd.sales_1_month > hd.sales_1_month.quantile(0))]).set_title('Box plot of sales_1_month from 0 to 80th percentile')"
   ]
  },
  {
   "cell_type": "code",
   "execution_count": 40,
   "id": "283a5765",
   "metadata": {},
   "outputs": [
    {
     "data": {
      "text/plain": [
       "Text(0.5, 1.0, 'Box plot of sales_1_month from 0 to 80th percentile')"
      ]
     },
     "execution_count": 40,
     "metadata": {},
     "output_type": "execute_result"
    },
    {
     "data": {
      "image/png": "[encoded data removed]",
      "text/plain": [
       "<Figure size 360x360 with 1 Axes>"
      ]
     },
     "metadata": {},
     "output_type": "display_data"
    }
   ],
   "source": [
    "sns.boxplot(x='went_on_backorder',y='sales_3_month', data=hd[(hd.sales_3_month < hd.sales_3_month.quantile(0.80))  & (hd.sales_3_month > hd.sales_3_month.quantile(0))]).set_title('Box plot of sales_1_month from 0 to 80th percentile')"
   ]
  },
  {
   "cell_type": "code",
   "execution_count": 41,
   "id": "8abf25dc",
   "metadata": {},
   "outputs": [
    {
     "data": {
      "text/plain": [
       "Text(0.5, 1.0, 'Box plot of sales_6_month from 0 to 80th percentile')"
      ]
     },
     "execution_count": 41,
     "metadata": {},
     "output_type": "execute_result"
    },
    {
     "data": {
      "image/png": "[encoded data removed]",
      "text/plain": [
       "<Figure size 360x360 with 1 Axes>"
      ]
     },
     "metadata": {},
     "output_type": "display_data"
    }
   ],
   "source": [
    "sns.boxplot(x='went_on_backorder',y='sales_6_month', data=hd[(hd.sales_6_month < hd.sales_6_month.quantile(0.80))  & (hd.sales_6_month > hd.sales_6_month.quantile(0))]).set_title('Box plot of sales_6_month from 0 to 80th percentile')"
   ]
  },
  {
   "cell_type": "code",
   "execution_count": 42,
   "id": "97d49fec",
   "metadata": {},
   "outputs": [
    {
     "data": {
      "text/plain": [
       "Text(0.5, 1.0, 'Box plot of sales_9_month from 0 to 80th percentile')"
      ]
     },
     "execution_count": 42,
     "metadata": {},
     "output_type": "execute_result"
    },
    {
     "data": {
      "image/png": "[encoded data removed]",
      "text/plain": [
       "<Figure size 360x360 with 1 Axes>"
      ]
     },
     "metadata": {},
     "output_type": "display_data"
    }
   ],
   "source": [
    "sns.boxplot(x='went_on_backorder',y='sales_9_month', data=hd[(hd.sales_9_month < hd.sales_9_month.quantile(0.80))  & (hd.sales_9_month > hd.sales_9_month.quantile(0))]).set_title('Box plot of sales_9_month from 0 to 80th percentile')"
   ]
  },
  {
   "cell_type": "code",
   "execution_count": 43,
   "id": "d987587e",
   "metadata": {},
   "outputs": [
    {
     "data": {
      "text/plain": [
       "Text(0.5, 1.0, 'Box plot of min_bank from 0 to 80th percentile')"
      ]
     },
     "execution_count": 43,
     "metadata": {},
     "output_type": "execute_result"
    },
    {
     "data": {
      "image/png": "[encoded data removed]",
      "text/plain": [
       "<Figure size 360x360 with 1 Axes>"
      ]
     },
     "metadata": {},
     "output_type": "display_data"
    }
   ],
   "source": [
    "sns.boxplot(x='went_on_backorder',y='min_bank', data=hd[(hd.min_bank < hd.min_bank.quantile(0.80))  & (hd.min_bank > hd.min_bank.quantile(0))]).set_title('Box plot of min_bank from 0 to 80th percentile')"
   ]
  },
  {
   "cell_type": "code",
   "execution_count": 44,
   "id": "95470598",
   "metadata": {},
   "outputs": [
    {
     "data": {
      "text/plain": [
       "Text(0.5, 1.0, 'Box plot of perf_6_month_avg from 0 to 90th percentile')"
      ]
     },
     "execution_count": 44,
     "metadata": {},
     "output_type": "execute_result"
    },
    {
     "data": {
      "image/png": "[encoded data removed]",
      "text/plain": [
       "<Figure size 360x360 with 1 Axes>"
      ]
     },
     "metadata": {},
     "output_type": "display_data"
    }
   ],
   "source": [
    "sns.boxplot(x='went_on_backorder',y='perf_6_month_avg', data=hd[(hd.perf_6_month_avg < hd.perf_6_month_avg.quantile(0.90))  & (hd.perf_6_month_avg > hd.perf_6_month_avg.quantile(0))]).set_title('Box plot of perf_6_month_avg from 0 to 90th percentile')"
   ]
  },
  {
   "cell_type": "code",
   "execution_count": 45,
   "id": "85c6d313",
   "metadata": {
    "scrolled": true
   },
   "outputs": [
    {
     "data": {
      "text/plain": [
       "Text(0.5, 1.0, 'Box plot of perf_12_month_avg from 0 to 90th percentile')"
      ]
     },
     "execution_count": 45,
     "metadata": {},
     "output_type": "execute_result"
    },
    {
     "data": {
      "image/png": "[encoded data removed]",
      "text/plain": [
       "<Figure size 360x360 with 1 Axes>"
      ]
     },
     "metadata": {},
     "output_type": "display_data"
    }
   ],
   "source": [
    "sns.boxplot(x='went_on_backorder',y='perf_12_month_avg', data=hd[(hd.perf_12_month_avg < hd.perf_12_month_avg.quantile(0.90))  & (hd.perf_12_month_avg > hd.perf_12_month_avg.quantile(0))]).set_title('Box plot of perf_12_month_avg from 0 to 90th percentile')"
   ]
  },
  {
   "cell_type": "markdown",
   "id": "59b73074",
   "metadata": {},
   "source": [
    "- From the above boxplot we can interpret that if we consider the consider the datapoints between 0% and 90% values most of the outliers are removed and can make some inferences.\n",
    "- Changing the percentile of boxplot helped us to change the overall dataset and reduce the skewness.\n",
    "- Now by changing the IQR we can make the pairplot which can help us to interpret the data more easily.\n"
   ]
  },
  {
   "cell_type": "markdown",
   "id": "2ee2d321",
   "metadata": {},
   "source": [
    "### Encoding Categorical Variables"
   ]
  },
  {
   "cell_type": "code",
   "execution_count": 46,
   "id": "ff76b32d",
   "metadata": {},
   "outputs": [],
   "source": [
    "hd['potential_issue'] = hd['potential_issue'].map({'No' : 0, 'Yes' : 1}).astype('int')\n",
    "hd['deck_risk'] = hd['deck_risk'].map({'No' : 0, 'Yes' : 1}).astype('int')\n",
    "hd['oe_constraint'] = hd['oe_constraint'].map({'No' : 0, 'Yes' : 1}).astype('int')\n",
    "hd['ppap_risk'] = hd['ppap_risk'].map({'No' : 0, 'Yes' : 1}).astype('int')\n",
    "hd['stop_auto_buy'] = hd['stop_auto_buy'].map({'No' : 0, 'Yes' : 1}).astype('int')\n",
    "hd['went_on_backorder'] = hd['went_on_backorder'].map({'No' : 0, 'Yes' : 1}).astype('int')\n",
    "hd['rev_stop'] = hd['rev_stop'].map({'No' : 0, 'Yes' : 1}).astype('int')"
   ]
  },
  {
   "cell_type": "markdown",
   "id": "780e3f66",
   "metadata": {},
   "source": [
    "Encoding the categorical variables by assigning \"Yes\" as 1 and \"No\" as 0."
   ]
  },
  {
   "cell_type": "code",
   "execution_count": 47,
   "id": "7032501e",
   "metadata": {
    "scrolled": false
   },
   "outputs": [
    {
     "data": {
      "text/html": [
       "<div>\n",
       "<style scoped>\n",
       "    .dataframe tbody tr th:only-of-type {\n",
       "        vertical-align: middle;\n",
       "    }\n",
       "\n",
       "    .dataframe tbody tr th {\n",
       "        vertical-align: top;\n",
       "    }\n",
       "\n",
       "    .dataframe thead th {\n",
       "        text-align: right;\n",
       "    }\n",
       "</style>\n",
       "<table border=\"1\" class=\"dataframe\">\n",
       "  <thead>\n",
       "    <tr style=\"text-align: right;\">\n",
       "      <th></th>\n",
       "      <th>national_inv</th>\n",
       "      <th>lead_time</th>\n",
       "      <th>in_transit_qty</th>\n",
       "      <th>forecast_3_month</th>\n",
       "      <th>forecast_6_month</th>\n",
       "      <th>forecast_9_month</th>\n",
       "      <th>sales_1_month</th>\n",
       "      <th>sales_3_month</th>\n",
       "      <th>sales_6_month</th>\n",
       "      <th>sales_9_month</th>\n",
       "      <th>...</th>\n",
       "      <th>pieces_past_due</th>\n",
       "      <th>perf_6_month_avg</th>\n",
       "      <th>perf_12_month_avg</th>\n",
       "      <th>local_bo_qty</th>\n",
       "      <th>deck_risk</th>\n",
       "      <th>oe_constraint</th>\n",
       "      <th>ppap_risk</th>\n",
       "      <th>stop_auto_buy</th>\n",
       "      <th>rev_stop</th>\n",
       "      <th>went_on_backorder</th>\n",
       "    </tr>\n",
       "  </thead>\n",
       "  <tbody>\n",
       "    <tr>\n",
       "      <th>1</th>\n",
       "      <td>7</td>\n",
       "      <td>2.000000</td>\n",
       "      <td>0</td>\n",
       "      <td>0</td>\n",
       "      <td>0</td>\n",
       "      <td>0</td>\n",
       "      <td>0</td>\n",
       "      <td>0</td>\n",
       "      <td>0</td>\n",
       "      <td>0</td>\n",
       "      <td>...</td>\n",
       "      <td>0</td>\n",
       "      <td>0.500000</td>\n",
       "      <td>0.280000</td>\n",
       "      <td>0</td>\n",
       "      <td>1</td>\n",
       "      <td>0</td>\n",
       "      <td>0</td>\n",
       "      <td>1</td>\n",
       "      <td>0</td>\n",
       "      <td>0</td>\n",
       "    </tr>\n",
       "    <tr>\n",
       "      <th>2</th>\n",
       "      <td>258</td>\n",
       "      <td>15.000000</td>\n",
       "      <td>10</td>\n",
       "      <td>10</td>\n",
       "      <td>77</td>\n",
       "      <td>184</td>\n",
       "      <td>46</td>\n",
       "      <td>132</td>\n",
       "      <td>256</td>\n",
       "      <td>365</td>\n",
       "      <td>...</td>\n",
       "      <td>0</td>\n",
       "      <td>0.540000</td>\n",
       "      <td>0.700000</td>\n",
       "      <td>0</td>\n",
       "      <td>0</td>\n",
       "      <td>0</td>\n",
       "      <td>0</td>\n",
       "      <td>1</td>\n",
       "      <td>0</td>\n",
       "      <td>0</td>\n",
       "    </tr>\n",
       "    <tr>\n",
       "      <th>3</th>\n",
       "      <td>46</td>\n",
       "      <td>2.000000</td>\n",
       "      <td>0</td>\n",
       "      <td>0</td>\n",
       "      <td>0</td>\n",
       "      <td>0</td>\n",
       "      <td>1</td>\n",
       "      <td>2</td>\n",
       "      <td>6</td>\n",
       "      <td>9</td>\n",
       "      <td>...</td>\n",
       "      <td>0</td>\n",
       "      <td>0.750000</td>\n",
       "      <td>0.900000</td>\n",
       "      <td>0</td>\n",
       "      <td>1</td>\n",
       "      <td>0</td>\n",
       "      <td>0</td>\n",
       "      <td>1</td>\n",
       "      <td>0</td>\n",
       "      <td>0</td>\n",
       "    </tr>\n",
       "    <tr>\n",
       "      <th>4</th>\n",
       "      <td>2</td>\n",
       "      <td>2.000000</td>\n",
       "      <td>0</td>\n",
       "      <td>4</td>\n",
       "      <td>6</td>\n",
       "      <td>10</td>\n",
       "      <td>2</td>\n",
       "      <td>2</td>\n",
       "      <td>5</td>\n",
       "      <td>6</td>\n",
       "      <td>...</td>\n",
       "      <td>0</td>\n",
       "      <td>0.970000</td>\n",
       "      <td>0.920000</td>\n",
       "      <td>0</td>\n",
       "      <td>0</td>\n",
       "      <td>0</td>\n",
       "      <td>0</td>\n",
       "      <td>1</td>\n",
       "      <td>0</td>\n",
       "      <td>0</td>\n",
       "    </tr>\n",
       "    <tr>\n",
       "      <th>5</th>\n",
       "      <td>297</td>\n",
       "      <td>12.000000</td>\n",
       "      <td>0</td>\n",
       "      <td>0</td>\n",
       "      <td>0</td>\n",
       "      <td>0</td>\n",
       "      <td>5</td>\n",
       "      <td>6</td>\n",
       "      <td>44</td>\n",
       "      <td>57</td>\n",
       "      <td>...</td>\n",
       "      <td>0</td>\n",
       "      <td>0.580000</td>\n",
       "      <td>0.750000</td>\n",
       "      <td>0</td>\n",
       "      <td>1</td>\n",
       "      <td>0</td>\n",
       "      <td>0</td>\n",
       "      <td>1</td>\n",
       "      <td>0</td>\n",
       "      <td>0</td>\n",
       "    </tr>\n",
       "  </tbody>\n",
       "</table>\n",
       "<p>5 rows × 22 columns</p>\n",
       "</div>"
      ],
      "text/plain": [
       "   national_inv  lead_time  in_transit_qty  forecast_3_month  \\\n",
       "1             7   2.000000               0                 0   \n",
       "2           258  15.000000              10                10   \n",
       "3            46   2.000000               0                 0   \n",
       "4             2   2.000000               0                 4   \n",
       "5           297  12.000000               0                 0   \n",
       "\n",
       "   forecast_6_month  forecast_9_month  sales_1_month  sales_3_month  \\\n",
       "1                 0                 0              0              0   \n",
       "2                77               184             46            132   \n",
       "3                 0                 0              1              2   \n",
       "4                 6                10              2              2   \n",
       "5                 0                 0              5              6   \n",
       "\n",
       "   sales_6_month  sales_9_month  ...  pieces_past_due  perf_6_month_avg  \\\n",
       "1              0              0  ...                0          0.500000   \n",
       "2            256            365  ...                0          0.540000   \n",
       "3              6              9  ...                0          0.750000   \n",
       "4              5              6  ...                0          0.970000   \n",
       "5             44             57  ...                0          0.580000   \n",
       "\n",
       "   perf_12_month_avg  local_bo_qty  deck_risk  oe_constraint  ppap_risk  \\\n",
       "1           0.280000             0          1              0          0   \n",
       "2           0.700000             0          0              0          0   \n",
       "3           0.900000             0          1              0          0   \n",
       "4           0.920000             0          0              0          0   \n",
       "5           0.750000             0          1              0          0   \n",
       "\n",
       "   stop_auto_buy  rev_stop  went_on_backorder  \n",
       "1              1         0                  0  \n",
       "2              1         0                  0  \n",
       "3              1         0                  0  \n",
       "4              1         0                  0  \n",
       "5              1         0                  0  \n",
       "\n",
       "[5 rows x 22 columns]"
      ]
     },
     "execution_count": 47,
     "metadata": {},
     "output_type": "execute_result"
    }
   ],
   "source": [
    "hd.head()"
   ]
  },
  {
   "cell_type": "markdown",
   "id": "d8d732bc",
   "metadata": {},
   "source": [
    "### Barplot for Categorical Features"
   ]
  },
  {
   "cell_type": "code",
   "execution_count": 48,
   "id": "0aefaef2",
   "metadata": {
    "scrolled": true
   },
   "outputs": [
    {
     "data": {
      "text/plain": [
       "<AxesSubplot:xlabel='went_on_backorder', ylabel='potential_issue'>"
      ]
     },
     "execution_count": 48,
     "metadata": {},
     "output_type": "execute_result"
    },
    {
     "data": {
      "image/png": "[encoded data removed]",
      "text/plain": [
       "<Figure size 360x360 with 1 Axes>"
      ]
     },
     "metadata": {},
     "output_type": "display_data"
    }
   ],
   "source": [
    "sns.barplot('went_on_backorder', 'potential_issue', data=hd)\n"
   ]
  },
  {
   "cell_type": "markdown",
   "id": "bc1390bd",
   "metadata": {},
   "source": [
    "- From the bargraph we can see that whenever there is potential issue there is a high chance of probability that the product will go into backorder."
   ]
  },
  {
   "cell_type": "code",
   "execution_count": 49,
   "id": "233d22cc",
   "metadata": {
    "scrolled": true
   },
   "outputs": [
    {
     "data": {
      "text/plain": [
       "<AxesSubplot:xlabel='went_on_backorder', ylabel='deck_risk'>"
      ]
     },
     "execution_count": 49,
     "metadata": {},
     "output_type": "execute_result"
    },
    {
     "data": {
      "image/png": "[encoded data removed]",
      "text/plain": [
       "<Figure size 360x360 with 1 Axes>"
      ]
     },
     "metadata": {},
     "output_type": "display_data"
    }
   ],
   "source": [
    "sns.barplot('went_on_backorder', 'deck_risk', data=hd)"
   ]
  },
  {
   "cell_type": "code",
   "execution_count": 50,
   "id": "fa40c34d",
   "metadata": {
    "scrolled": true
   },
   "outputs": [
    {
     "data": {
      "text/plain": [
       "<AxesSubplot:xlabel='went_on_backorder', ylabel='oe_constraint'>"
      ]
     },
     "execution_count": 50,
     "metadata": {},
     "output_type": "execute_result"
    },
    {
     "data": {
      "image/png": "[encoded data removed]",
      "text/plain": [
       "<Figure size 360x360 with 1 Axes>"
      ]
     },
     "metadata": {},
     "output_type": "display_data"
    }
   ],
   "source": [
    "sns.barplot('went_on_backorder', 'oe_constraint', data=hd)"
   ]
  },
  {
   "cell_type": "code",
   "execution_count": 51,
   "id": "c0c8ea9d",
   "metadata": {
    "scrolled": true
   },
   "outputs": [
    {
     "data": {
      "text/plain": [
       "<AxesSubplot:xlabel='went_on_backorder', ylabel='ppap_risk'>"
      ]
     },
     "execution_count": 51,
     "metadata": {},
     "output_type": "execute_result"
    },
    {
     "data": {
      "image/png": "[encoded data removed]",
      "text/plain": [
       "<Figure size 360x360 with 1 Axes>"
      ]
     },
     "metadata": {},
     "output_type": "display_data"
    }
   ],
   "source": [
    "sns.barplot('went_on_backorder', 'ppap_risk', data=hd)"
   ]
  },
  {
   "cell_type": "code",
   "execution_count": 52,
   "id": "300ccf6f",
   "metadata": {
    "scrolled": true
   },
   "outputs": [
    {
     "data": {
      "text/plain": [
       "<AxesSubplot:xlabel='went_on_backorder', ylabel='stop_auto_buy'>"
      ]
     },
     "execution_count": 52,
     "metadata": {},
     "output_type": "execute_result"
    },
    {
     "data": {
      "image/png": "[encoded data removed]",
      "text/plain": [
       "<Figure size 360x360 with 1 Axes>"
      ]
     },
     "metadata": {},
     "output_type": "display_data"
    }
   ],
   "source": [
    "sns.barplot('went_on_backorder', 'stop_auto_buy', data=hd)"
   ]
  },
  {
   "cell_type": "code",
   "execution_count": 53,
   "id": "a42848c1",
   "metadata": {
    "scrolled": true
   },
   "outputs": [
    {
     "data": {
      "text/plain": [
       "<AxesSubplot:xlabel='went_on_backorder', ylabel='rev_stop'>"
      ]
     },
     "execution_count": 53,
     "metadata": {},
     "output_type": "execute_result"
    },
    {
     "data": {
      "image/png": "[encoded data removed]",
      "text/plain": [
       "<Figure size 360x360 with 1 Axes>"
      ]
     },
     "metadata": {},
     "output_type": "display_data"
    }
   ],
   "source": [
    "sns.barplot('went_on_backorder', 'rev_stop', data=hd)"
   ]
  },
  {
   "cell_type": "markdown",
   "id": "89d0de1a",
   "metadata": {},
   "source": [
    "- For the features: deck_risk, rev_stop whnever there is \"No\" flag then the product doesnt go into backorders.\n",
    "- For the features: ppap_risk, oe_constraint there is \"Yes\" flag then the product goes into backorders.\n",
    "- For the feature: auto_buy there is probability of 52% that the product will not go into backorder while there is probability of 48% that the produdct will go into backorder."
   ]
  },
  {
   "cell_type": "markdown",
   "id": "5e625780",
   "metadata": {},
   "source": [
    "- The problem we are solving is binary classification with very high data imbalance with positive class being the minority.\n",
    "- Missing values are present in Lead time column and -99.0 an unusual value in performance columns in which the remaining values are between 0 and 1\n"
   ]
  },
  {
   "cell_type": "code",
   "execution_count": 54,
   "id": "cf495ae2",
   "metadata": {},
   "outputs": [],
   "source": [
    "# splitting features and the target variable\n",
    "# consider all the columns except 'RGD' using 'iloc'\n",
    "hd_features = hd.iloc[:, hd.columns != 'went_on_backorder']\n",
    "\n",
    "# consider the target variable\n",
    "hd_target = hd.iloc[:, hd.columns == 'went_on_backorder']"
   ]
  },
  {
   "cell_type": "code",
   "execution_count": 55,
   "id": "bfe92414",
   "metadata": {},
   "outputs": [
    {
     "data": {
      "text/html": [
       "<div>\n",
       "<style scoped>\n",
       "    .dataframe tbody tr th:only-of-type {\n",
       "        vertical-align: middle;\n",
       "    }\n",
       "\n",
       "    .dataframe tbody tr th {\n",
       "        vertical-align: top;\n",
       "    }\n",
       "\n",
       "    .dataframe thead th {\n",
       "        text-align: right;\n",
       "    }\n",
       "</style>\n",
       "<table border=\"1\" class=\"dataframe\">\n",
       "  <thead>\n",
       "    <tr style=\"text-align: right;\">\n",
       "      <th></th>\n",
       "      <th>national_inv</th>\n",
       "      <th>lead_time</th>\n",
       "      <th>in_transit_qty</th>\n",
       "      <th>forecast_3_month</th>\n",
       "      <th>forecast_6_month</th>\n",
       "      <th>forecast_9_month</th>\n",
       "      <th>sales_1_month</th>\n",
       "      <th>sales_3_month</th>\n",
       "      <th>sales_6_month</th>\n",
       "      <th>sales_9_month</th>\n",
       "      <th>...</th>\n",
       "      <th>potential_issue</th>\n",
       "      <th>pieces_past_due</th>\n",
       "      <th>perf_6_month_avg</th>\n",
       "      <th>perf_12_month_avg</th>\n",
       "      <th>local_bo_qty</th>\n",
       "      <th>deck_risk</th>\n",
       "      <th>oe_constraint</th>\n",
       "      <th>ppap_risk</th>\n",
       "      <th>stop_auto_buy</th>\n",
       "      <th>rev_stop</th>\n",
       "    </tr>\n",
       "  </thead>\n",
       "  <tbody>\n",
       "    <tr>\n",
       "      <th>national_inv</th>\n",
       "      <td>1.000000</td>\n",
       "      <td>0.020724</td>\n",
       "      <td>0.654611</td>\n",
       "      <td>0.660161</td>\n",
       "      <td>0.676360</td>\n",
       "      <td>0.685996</td>\n",
       "      <td>0.673300</td>\n",
       "      <td>0.556589</td>\n",
       "      <td>0.643159</td>\n",
       "      <td>0.660607</td>\n",
       "      <td>...</td>\n",
       "      <td>-0.001461</td>\n",
       "      <td>0.049947</td>\n",
       "      <td>-0.027834</td>\n",
       "      <td>-0.029246</td>\n",
       "      <td>-0.000598</td>\n",
       "      <td>-0.016666</td>\n",
       "      <td>-0.000812</td>\n",
       "      <td>-0.006437</td>\n",
       "      <td>-0.015479</td>\n",
       "      <td>-0.000808</td>\n",
       "    </tr>\n",
       "    <tr>\n",
       "      <th>lead_time</th>\n",
       "      <td>0.020724</td>\n",
       "      <td>1.000000</td>\n",
       "      <td>-0.005685</td>\n",
       "      <td>-0.005421</td>\n",
       "      <td>-0.005819</td>\n",
       "      <td>-0.005952</td>\n",
       "      <td>-0.006554</td>\n",
       "      <td>-0.003269</td>\n",
       "      <td>-0.004580</td>\n",
       "      <td>-0.004989</td>\n",
       "      <td>...</td>\n",
       "      <td>-0.005689</td>\n",
       "      <td>-0.004091</td>\n",
       "      <td>-0.086290</td>\n",
       "      <td>-0.096416</td>\n",
       "      <td>0.004479</td>\n",
       "      <td>0.098798</td>\n",
       "      <td>-0.007867</td>\n",
       "      <td>0.001548</td>\n",
       "      <td>-0.235616</td>\n",
       "      <td>0.000659</td>\n",
       "    </tr>\n",
       "    <tr>\n",
       "      <th>in_transit_qty</th>\n",
       "      <td>0.654611</td>\n",
       "      <td>-0.005685</td>\n",
       "      <td>1.000000</td>\n",
       "      <td>0.870836</td>\n",
       "      <td>0.880883</td>\n",
       "      <td>0.887675</td>\n",
       "      <td>0.899206</td>\n",
       "      <td>0.743497</td>\n",
       "      <td>0.849162</td>\n",
       "      <td>0.873089</td>\n",
       "      <td>...</td>\n",
       "      <td>0.009310</td>\n",
       "      <td>0.053663</td>\n",
       "      <td>0.003045</td>\n",
       "      <td>0.003406</td>\n",
       "      <td>0.019890</td>\n",
       "      <td>-0.016947</td>\n",
       "      <td>-0.000254</td>\n",
       "      <td>-0.003508</td>\n",
       "      <td>0.003506</td>\n",
       "      <td>0.000174</td>\n",
       "    </tr>\n",
       "    <tr>\n",
       "      <th>forecast_3_month</th>\n",
       "      <td>0.660161</td>\n",
       "      <td>-0.005421</td>\n",
       "      <td>0.870836</td>\n",
       "      <td>1.000000</td>\n",
       "      <td>0.996328</td>\n",
       "      <td>0.993438</td>\n",
       "      <td>0.936717</td>\n",
       "      <td>0.771806</td>\n",
       "      <td>0.884929</td>\n",
       "      <td>0.911922</td>\n",
       "      <td>...</td>\n",
       "      <td>0.015885</td>\n",
       "      <td>0.050961</td>\n",
       "      <td>0.001913</td>\n",
       "      <td>0.002122</td>\n",
       "      <td>0.028639</td>\n",
       "      <td>-0.012109</td>\n",
       "      <td>-0.000065</td>\n",
       "      <td>-0.000058</td>\n",
       "      <td>0.000762</td>\n",
       "      <td>-0.000490</td>\n",
       "    </tr>\n",
       "    <tr>\n",
       "      <th>forecast_6_month</th>\n",
       "      <td>0.676360</td>\n",
       "      <td>-0.005819</td>\n",
       "      <td>0.880883</td>\n",
       "      <td>0.996328</td>\n",
       "      <td>1.000000</td>\n",
       "      <td>0.998666</td>\n",
       "      <td>0.943575</td>\n",
       "      <td>0.777643</td>\n",
       "      <td>0.892022</td>\n",
       "      <td>0.919445</td>\n",
       "      <td>...</td>\n",
       "      <td>0.011460</td>\n",
       "      <td>0.050774</td>\n",
       "      <td>0.001135</td>\n",
       "      <td>0.000996</td>\n",
       "      <td>0.021558</td>\n",
       "      <td>-0.012870</td>\n",
       "      <td>-0.000083</td>\n",
       "      <td>-0.000678</td>\n",
       "      <td>0.001287</td>\n",
       "      <td>-0.000493</td>\n",
       "    </tr>\n",
       "    <tr>\n",
       "      <th>forecast_9_month</th>\n",
       "      <td>0.685996</td>\n",
       "      <td>-0.005952</td>\n",
       "      <td>0.887675</td>\n",
       "      <td>0.993438</td>\n",
       "      <td>0.998666</td>\n",
       "      <td>1.000000</td>\n",
       "      <td>0.952928</td>\n",
       "      <td>0.785264</td>\n",
       "      <td>0.900933</td>\n",
       "      <td>0.928750</td>\n",
       "      <td>...</td>\n",
       "      <td>0.010243</td>\n",
       "      <td>0.050235</td>\n",
       "      <td>0.000334</td>\n",
       "      <td>0.000079</td>\n",
       "      <td>0.019889</td>\n",
       "      <td>-0.013100</td>\n",
       "      <td>-0.000077</td>\n",
       "      <td>-0.001062</td>\n",
       "      <td>0.001374</td>\n",
       "      <td>-0.000488</td>\n",
       "    </tr>\n",
       "    <tr>\n",
       "      <th>sales_1_month</th>\n",
       "      <td>0.673300</td>\n",
       "      <td>-0.006554</td>\n",
       "      <td>0.899206</td>\n",
       "      <td>0.936717</td>\n",
       "      <td>0.943575</td>\n",
       "      <td>0.952928</td>\n",
       "      <td>1.000000</td>\n",
       "      <td>0.816341</td>\n",
       "      <td>0.936518</td>\n",
       "      <td>0.966108</td>\n",
       "      <td>...</td>\n",
       "      <td>0.003520</td>\n",
       "      <td>0.049587</td>\n",
       "      <td>0.000776</td>\n",
       "      <td>0.002378</td>\n",
       "      <td>0.022718</td>\n",
       "      <td>-0.013891</td>\n",
       "      <td>-0.000031</td>\n",
       "      <td>-0.003081</td>\n",
       "      <td>-0.001158</td>\n",
       "      <td>-0.000477</td>\n",
       "    </tr>\n",
       "    <tr>\n",
       "      <th>sales_3_month</th>\n",
       "      <td>0.556589</td>\n",
       "      <td>-0.003269</td>\n",
       "      <td>0.743497</td>\n",
       "      <td>0.771806</td>\n",
       "      <td>0.777643</td>\n",
       "      <td>0.785264</td>\n",
       "      <td>0.816341</td>\n",
       "      <td>1.000000</td>\n",
       "      <td>0.963986</td>\n",
       "      <td>0.929600</td>\n",
       "      <td>...</td>\n",
       "      <td>0.002634</td>\n",
       "      <td>0.039575</td>\n",
       "      <td>0.001279</td>\n",
       "      <td>0.002441</td>\n",
       "      <td>0.017975</td>\n",
       "      <td>-0.012501</td>\n",
       "      <td>0.000012</td>\n",
       "      <td>-0.003380</td>\n",
       "      <td>-0.000653</td>\n",
       "      <td>-0.000425</td>\n",
       "    </tr>\n",
       "    <tr>\n",
       "      <th>sales_6_month</th>\n",
       "      <td>0.643159</td>\n",
       "      <td>-0.004580</td>\n",
       "      <td>0.849162</td>\n",
       "      <td>0.884929</td>\n",
       "      <td>0.892022</td>\n",
       "      <td>0.900933</td>\n",
       "      <td>0.936518</td>\n",
       "      <td>0.963986</td>\n",
       "      <td>1.000000</td>\n",
       "      <td>0.993835</td>\n",
       "      <td>...</td>\n",
       "      <td>0.002801</td>\n",
       "      <td>0.053895</td>\n",
       "      <td>0.001582</td>\n",
       "      <td>0.002750</td>\n",
       "      <td>0.017176</td>\n",
       "      <td>-0.013952</td>\n",
       "      <td>0.000017</td>\n",
       "      <td>-0.003478</td>\n",
       "      <td>-0.000823</td>\n",
       "      <td>-0.000473</td>\n",
       "    </tr>\n",
       "    <tr>\n",
       "      <th>sales_9_month</th>\n",
       "      <td>0.660607</td>\n",
       "      <td>-0.004989</td>\n",
       "      <td>0.873089</td>\n",
       "      <td>0.911922</td>\n",
       "      <td>0.919445</td>\n",
       "      <td>0.928750</td>\n",
       "      <td>0.966108</td>\n",
       "      <td>0.929600</td>\n",
       "      <td>0.993835</td>\n",
       "      <td>1.000000</td>\n",
       "      <td>...</td>\n",
       "      <td>0.002420</td>\n",
       "      <td>0.056527</td>\n",
       "      <td>0.001605</td>\n",
       "      <td>0.002862</td>\n",
       "      <td>0.016116</td>\n",
       "      <td>-0.014720</td>\n",
       "      <td>-0.000022</td>\n",
       "      <td>-0.003136</td>\n",
       "      <td>-0.000890</td>\n",
       "      <td>-0.000491</td>\n",
       "    </tr>\n",
       "    <tr>\n",
       "      <th>min_bank</th>\n",
       "      <td>0.657672</td>\n",
       "      <td>-0.006575</td>\n",
       "      <td>0.875709</td>\n",
       "      <td>0.963373</td>\n",
       "      <td>0.965765</td>\n",
       "      <td>0.965947</td>\n",
       "      <td>0.948732</td>\n",
       "      <td>0.780205</td>\n",
       "      <td>0.896884</td>\n",
       "      <td>0.926578</td>\n",
       "      <td>...</td>\n",
       "      <td>0.004166</td>\n",
       "      <td>0.059306</td>\n",
       "      <td>0.001261</td>\n",
       "      <td>0.002903</td>\n",
       "      <td>0.020694</td>\n",
       "      <td>-0.018517</td>\n",
       "      <td>-0.000121</td>\n",
       "      <td>-0.001774</td>\n",
       "      <td>-0.001082</td>\n",
       "      <td>0.004853</td>\n",
       "    </tr>\n",
       "    <tr>\n",
       "      <th>potential_issue</th>\n",
       "      <td>-0.001461</td>\n",
       "      <td>-0.005689</td>\n",
       "      <td>0.009310</td>\n",
       "      <td>0.015885</td>\n",
       "      <td>0.011460</td>\n",
       "      <td>0.010243</td>\n",
       "      <td>0.003520</td>\n",
       "      <td>0.002634</td>\n",
       "      <td>0.002801</td>\n",
       "      <td>0.002420</td>\n",
       "      <td>...</td>\n",
       "      <td>1.000000</td>\n",
       "      <td>0.012428</td>\n",
       "      <td>0.004493</td>\n",
       "      <td>0.003865</td>\n",
       "      <td>0.013410</td>\n",
       "      <td>-0.000554</td>\n",
       "      <td>0.031974</td>\n",
       "      <td>0.021356</td>\n",
       "      <td>0.005895</td>\n",
       "      <td>-0.000551</td>\n",
       "    </tr>\n",
       "    <tr>\n",
       "      <th>pieces_past_due</th>\n",
       "      <td>0.049947</td>\n",
       "      <td>-0.004091</td>\n",
       "      <td>0.053663</td>\n",
       "      <td>0.050961</td>\n",
       "      <td>0.050774</td>\n",
       "      <td>0.050235</td>\n",
       "      <td>0.049587</td>\n",
       "      <td>0.039575</td>\n",
       "      <td>0.053895</td>\n",
       "      <td>0.056527</td>\n",
       "      <td>...</td>\n",
       "      <td>0.012428</td>\n",
       "      <td>1.000000</td>\n",
       "      <td>-0.003533</td>\n",
       "      <td>-0.004697</td>\n",
       "      <td>0.016940</td>\n",
       "      <td>-0.012667</td>\n",
       "      <td>0.000650</td>\n",
       "      <td>0.004064</td>\n",
       "      <td>-0.007928</td>\n",
       "      <td>-0.000583</td>\n",
       "    </tr>\n",
       "    <tr>\n",
       "      <th>perf_6_month_avg</th>\n",
       "      <td>-0.027834</td>\n",
       "      <td>-0.086290</td>\n",
       "      <td>0.003045</td>\n",
       "      <td>0.001913</td>\n",
       "      <td>0.001135</td>\n",
       "      <td>0.000334</td>\n",
       "      <td>0.000776</td>\n",
       "      <td>0.001279</td>\n",
       "      <td>0.001582</td>\n",
       "      <td>0.001605</td>\n",
       "      <td>...</td>\n",
       "      <td>0.004493</td>\n",
       "      <td>-0.003533</td>\n",
       "      <td>1.000000</td>\n",
       "      <td>0.855776</td>\n",
       "      <td>0.000743</td>\n",
       "      <td>-0.039307</td>\n",
       "      <td>0.001326</td>\n",
       "      <td>-0.031450</td>\n",
       "      <td>0.093709</td>\n",
       "      <td>-0.034549</td>\n",
       "    </tr>\n",
       "    <tr>\n",
       "      <th>perf_12_month_avg</th>\n",
       "      <td>-0.029246</td>\n",
       "      <td>-0.096416</td>\n",
       "      <td>0.003406</td>\n",
       "      <td>0.002122</td>\n",
       "      <td>0.000996</td>\n",
       "      <td>0.000079</td>\n",
       "      <td>0.002378</td>\n",
       "      <td>0.002441</td>\n",
       "      <td>0.002750</td>\n",
       "      <td>0.002862</td>\n",
       "      <td>...</td>\n",
       "      <td>0.003865</td>\n",
       "      <td>-0.004697</td>\n",
       "      <td>0.855776</td>\n",
       "      <td>1.000000</td>\n",
       "      <td>0.000301</td>\n",
       "      <td>-0.042017</td>\n",
       "      <td>0.001084</td>\n",
       "      <td>-0.035979</td>\n",
       "      <td>0.058802</td>\n",
       "      <td>-0.040911</td>\n",
       "    </tr>\n",
       "    <tr>\n",
       "      <th>local_bo_qty</th>\n",
       "      <td>-0.000598</td>\n",
       "      <td>0.004479</td>\n",
       "      <td>0.019890</td>\n",
       "      <td>0.028639</td>\n",
       "      <td>0.021558</td>\n",
       "      <td>0.019889</td>\n",
       "      <td>0.022718</td>\n",
       "      <td>0.017975</td>\n",
       "      <td>0.017176</td>\n",
       "      <td>0.016116</td>\n",
       "      <td>...</td>\n",
       "      <td>0.013410</td>\n",
       "      <td>0.016940</td>\n",
       "      <td>0.000743</td>\n",
       "      <td>0.000301</td>\n",
       "      <td>1.000000</td>\n",
       "      <td>0.002461</td>\n",
       "      <td>-0.000471</td>\n",
       "      <td>-0.001194</td>\n",
       "      <td>0.003520</td>\n",
       "      <td>-0.000611</td>\n",
       "    </tr>\n",
       "    <tr>\n",
       "      <th>deck_risk</th>\n",
       "      <td>-0.016666</td>\n",
       "      <td>0.098798</td>\n",
       "      <td>-0.016947</td>\n",
       "      <td>-0.012109</td>\n",
       "      <td>-0.012870</td>\n",
       "      <td>-0.013100</td>\n",
       "      <td>-0.013891</td>\n",
       "      <td>-0.012501</td>\n",
       "      <td>-0.013952</td>\n",
       "      <td>-0.014720</td>\n",
       "      <td>...</td>\n",
       "      <td>-0.000554</td>\n",
       "      <td>-0.012667</td>\n",
       "      <td>-0.039307</td>\n",
       "      <td>-0.042017</td>\n",
       "      <td>0.002461</td>\n",
       "      <td>1.000000</td>\n",
       "      <td>0.004976</td>\n",
       "      <td>0.046661</td>\n",
       "      <td>-0.141699</td>\n",
       "      <td>0.001316</td>\n",
       "    </tr>\n",
       "    <tr>\n",
       "      <th>oe_constraint</th>\n",
       "      <td>-0.000812</td>\n",
       "      <td>-0.007867</td>\n",
       "      <td>-0.000254</td>\n",
       "      <td>-0.000065</td>\n",
       "      <td>-0.000083</td>\n",
       "      <td>-0.000077</td>\n",
       "      <td>-0.000031</td>\n",
       "      <td>0.000012</td>\n",
       "      <td>0.000017</td>\n",
       "      <td>-0.000022</td>\n",
       "      <td>...</td>\n",
       "      <td>0.031974</td>\n",
       "      <td>0.000650</td>\n",
       "      <td>0.001326</td>\n",
       "      <td>0.001084</td>\n",
       "      <td>-0.000471</td>\n",
       "      <td>0.004976</td>\n",
       "      <td>1.000000</td>\n",
       "      <td>0.001812</td>\n",
       "      <td>0.002296</td>\n",
       "      <td>-0.000215</td>\n",
       "    </tr>\n",
       "    <tr>\n",
       "      <th>ppap_risk</th>\n",
       "      <td>-0.006437</td>\n",
       "      <td>0.001548</td>\n",
       "      <td>-0.003508</td>\n",
       "      <td>-0.000058</td>\n",
       "      <td>-0.000678</td>\n",
       "      <td>-0.001062</td>\n",
       "      <td>-0.003081</td>\n",
       "      <td>-0.003380</td>\n",
       "      <td>-0.003478</td>\n",
       "      <td>-0.003136</td>\n",
       "      <td>...</td>\n",
       "      <td>0.021356</td>\n",
       "      <td>0.004064</td>\n",
       "      <td>-0.031450</td>\n",
       "      <td>-0.035979</td>\n",
       "      <td>-0.001194</td>\n",
       "      <td>0.046661</td>\n",
       "      <td>0.001812</td>\n",
       "      <td>1.000000</td>\n",
       "      <td>-0.032620</td>\n",
       "      <td>0.029128</td>\n",
       "    </tr>\n",
       "    <tr>\n",
       "      <th>stop_auto_buy</th>\n",
       "      <td>-0.015479</td>\n",
       "      <td>-0.235616</td>\n",
       "      <td>0.003506</td>\n",
       "      <td>0.000762</td>\n",
       "      <td>0.001287</td>\n",
       "      <td>0.001374</td>\n",
       "      <td>-0.001158</td>\n",
       "      <td>-0.000653</td>\n",
       "      <td>-0.000823</td>\n",
       "      <td>-0.000890</td>\n",
       "      <td>...</td>\n",
       "      <td>0.005895</td>\n",
       "      <td>-0.007928</td>\n",
       "      <td>0.093709</td>\n",
       "      <td>0.058802</td>\n",
       "      <td>0.003520</td>\n",
       "      <td>-0.141699</td>\n",
       "      <td>0.002296</td>\n",
       "      <td>-0.032620</td>\n",
       "      <td>1.000000</td>\n",
       "      <td>-0.071379</td>\n",
       "    </tr>\n",
       "    <tr>\n",
       "      <th>rev_stop</th>\n",
       "      <td>-0.000808</td>\n",
       "      <td>0.000659</td>\n",
       "      <td>0.000174</td>\n",
       "      <td>-0.000490</td>\n",
       "      <td>-0.000493</td>\n",
       "      <td>-0.000488</td>\n",
       "      <td>-0.000477</td>\n",
       "      <td>-0.000425</td>\n",
       "      <td>-0.000473</td>\n",
       "      <td>-0.000491</td>\n",
       "      <td>...</td>\n",
       "      <td>-0.000551</td>\n",
       "      <td>-0.000583</td>\n",
       "      <td>-0.034549</td>\n",
       "      <td>-0.040911</td>\n",
       "      <td>-0.000611</td>\n",
       "      <td>0.001316</td>\n",
       "      <td>-0.000215</td>\n",
       "      <td>0.029128</td>\n",
       "      <td>-0.071379</td>\n",
       "      <td>1.000000</td>\n",
       "    </tr>\n",
       "  </tbody>\n",
       "</table>\n",
       "<p>21 rows × 21 columns</p>\n",
       "</div>"
      ],
      "text/plain": [
       "                   national_inv  lead_time  in_transit_qty  forecast_3_month  \\\n",
       "national_inv           1.000000   0.020724        0.654611          0.660161   \n",
       "lead_time              0.020724   1.000000       -0.005685         -0.005421   \n",
       "in_transit_qty         0.654611  -0.005685        1.000000          0.870836   \n",
       "forecast_3_month       0.660161  -0.005421        0.870836          1.000000   \n",
       "forecast_6_month       0.676360  -0.005819        0.880883          0.996328   \n",
       "forecast_9_month       0.685996  -0.005952        0.887675          0.993438   \n",
       "sales_1_month          0.673300  -0.006554        0.899206          0.936717   \n",
       "sales_3_month          0.556589  -0.003269        0.743497          0.771806   \n",
       "sales_6_month          0.643159  -0.004580        0.849162          0.884929   \n",
       "sales_9_month          0.660607  -0.004989        0.873089          0.911922   \n",
       "min_bank               0.657672  -0.006575        0.875709          0.963373   \n",
       "potential_issue       -0.001461  -0.005689        0.009310          0.015885   \n",
       "pieces_past_due        0.049947  -0.004091        0.053663          0.050961   \n",
       "perf_6_month_avg      -0.027834  -0.086290        0.003045          0.001913   \n",
       "perf_12_month_avg     -0.029246  -0.096416        0.003406          0.002122   \n",
       "local_bo_qty          -0.000598   0.004479        0.019890          0.028639   \n",
       "deck_risk             -0.016666   0.098798       -0.016947         -0.012109   \n",
       "oe_constraint         -0.000812  -0.007867       -0.000254         -0.000065   \n",
       "ppap_risk             -0.006437   0.001548       -0.003508         -0.000058   \n",
       "stop_auto_buy         -0.015479  -0.235616        0.003506          0.000762   \n",
       "rev_stop              -0.000808   0.000659        0.000174         -0.000490   \n",
       "\n",
       "                   forecast_6_month  forecast_9_month  sales_1_month  \\\n",
       "national_inv               0.676360          0.685996       0.673300   \n",
       "lead_time                 -0.005819         -0.005952      -0.006554   \n",
       "in_transit_qty             0.880883          0.887675       0.899206   \n",
       "forecast_3_month           0.996328          0.993438       0.936717   \n",
       "forecast_6_month           1.000000          0.998666       0.943575   \n",
       "forecast_9_month           0.998666          1.000000       0.952928   \n",
       "sales_1_month              0.943575          0.952928       1.000000   \n",
       "sales_3_month              0.777643          0.785264       0.816341   \n",
       "sales_6_month              0.892022          0.900933       0.936518   \n",
       "sales_9_month              0.919445          0.928750       0.966108   \n",
       "min_bank                   0.965765          0.965947       0.948732   \n",
       "potential_issue            0.011460          0.010243       0.003520   \n",
       "pieces_past_due            0.050774          0.050235       0.049587   \n",
       "perf_6_month_avg           0.001135          0.000334       0.000776   \n",
       "perf_12_month_avg          0.000996          0.000079       0.002378   \n",
       "local_bo_qty               0.021558          0.019889       0.022718   \n",
       "deck_risk                 -0.012870         -0.013100      -0.013891   \n",
       "oe_constraint             -0.000083         -0.000077      -0.000031   \n",
       "ppap_risk                 -0.000678         -0.001062      -0.003081   \n",
       "stop_auto_buy              0.001287          0.001374      -0.001158   \n",
       "rev_stop                  -0.000493         -0.000488      -0.000477   \n",
       "\n",
       "                   sales_3_month  sales_6_month  sales_9_month  ...  \\\n",
       "national_inv            0.556589       0.643159       0.660607  ...   \n",
       "lead_time              -0.003269      -0.004580      -0.004989  ...   \n",
       "in_transit_qty          0.743497       0.849162       0.873089  ...   \n",
       "forecast_3_month        0.771806       0.884929       0.911922  ...   \n",
       "forecast_6_month        0.777643       0.892022       0.919445  ...   \n",
       "forecast_9_month        0.785264       0.900933       0.928750  ...   \n",
       "sales_1_month           0.816341       0.936518       0.966108  ...   \n",
       "sales_3_month           1.000000       0.963986       0.929600  ...   \n",
       "sales_6_month           0.963986       1.000000       0.993835  ...   \n",
       "sales_9_month           0.929600       0.993835       1.000000  ...   \n",
       "min_bank                0.780205       0.896884       0.926578  ...   \n",
       "potential_issue         0.002634       0.002801       0.002420  ...   \n",
       "pieces_past_due         0.039575       0.053895       0.056527  ...   \n",
       "perf_6_month_avg        0.001279       0.001582       0.001605  ...   \n",
       "perf_12_month_avg       0.002441       0.002750       0.002862  ...   \n",
       "local_bo_qty            0.017975       0.017176       0.016116  ...   \n",
       "deck_risk              -0.012501      -0.013952      -0.014720  ...   \n",
       "oe_constraint           0.000012       0.000017      -0.000022  ...   \n",
       "ppap_risk              -0.003380      -0.003478      -0.003136  ...   \n",
       "stop_auto_buy          -0.000653      -0.000823      -0.000890  ...   \n",
       "rev_stop               -0.000425      -0.000473      -0.000491  ...   \n",
       "\n",
       "                   potential_issue  pieces_past_due  perf_6_month_avg  \\\n",
       "national_inv             -0.001461         0.049947         -0.027834   \n",
       "lead_time                -0.005689        -0.004091         -0.086290   \n",
       "in_transit_qty            0.009310         0.053663          0.003045   \n",
       "forecast_3_month          0.015885         0.050961          0.001913   \n",
       "forecast_6_month          0.011460         0.050774          0.001135   \n",
       "forecast_9_month          0.010243         0.050235          0.000334   \n",
       "sales_1_month             0.003520         0.049587          0.000776   \n",
       "sales_3_month             0.002634         0.039575          0.001279   \n",
       "sales_6_month             0.002801         0.053895          0.001582   \n",
       "sales_9_month             0.002420         0.056527          0.001605   \n",
       "min_bank                  0.004166         0.059306          0.001261   \n",
       "potential_issue           1.000000         0.012428          0.004493   \n",
       "pieces_past_due           0.012428         1.000000         -0.003533   \n",
       "perf_6_month_avg          0.004493        -0.003533          1.000000   \n",
       "perf_12_month_avg         0.003865        -0.004697          0.855776   \n",
       "local_bo_qty              0.013410         0.016940          0.000743   \n",
       "deck_risk                -0.000554        -0.012667         -0.039307   \n",
       "oe_constraint             0.031974         0.000650          0.001326   \n",
       "ppap_risk                 0.021356         0.004064         -0.031450   \n",
       "stop_auto_buy             0.005895        -0.007928          0.093709   \n",
       "rev_stop                 -0.000551        -0.000583         -0.034549   \n",
       "\n",
       "                   perf_12_month_avg  local_bo_qty  deck_risk  oe_constraint  \\\n",
       "national_inv               -0.029246     -0.000598  -0.016666      -0.000812   \n",
       "lead_time                  -0.096416      0.004479   0.098798      -0.007867   \n",
       "in_transit_qty              0.003406      0.019890  -0.016947      -0.000254   \n",
       "forecast_3_month            0.002122      0.028639  -0.012109      -0.000065   \n",
       "forecast_6_month            0.000996      0.021558  -0.012870      -0.000083   \n",
       "forecast_9_month            0.000079      0.019889  -0.013100      -0.000077   \n",
       "sales_1_month               0.002378      0.022718  -0.013891      -0.000031   \n",
       "sales_3_month               0.002441      0.017975  -0.012501       0.000012   \n",
       "sales_6_month               0.002750      0.017176  -0.013952       0.000017   \n",
       "sales_9_month               0.002862      0.016116  -0.014720      -0.000022   \n",
       "min_bank                    0.002903      0.020694  -0.018517      -0.000121   \n",
       "potential_issue             0.003865      0.013410  -0.000554       0.031974   \n",
       "pieces_past_due            -0.004697      0.016940  -0.012667       0.000650   \n",
       "perf_6_month_avg            0.855776      0.000743  -0.039307       0.001326   \n",
       "perf_12_month_avg           1.000000      0.000301  -0.042017       0.001084   \n",
       "local_bo_qty                0.000301      1.000000   0.002461      -0.000471   \n",
       "deck_risk                  -0.042017      0.002461   1.000000       0.004976   \n",
       "oe_constraint               0.001084     -0.000471   0.004976       1.000000   \n",
       "ppap_risk                  -0.035979     -0.001194   0.046661       0.001812   \n",
       "stop_auto_buy               0.058802      0.003520  -0.141699       0.002296   \n",
       "rev_stop                   -0.040911     -0.000611   0.001316      -0.000215   \n",
       "\n",
       "                   ppap_risk  stop_auto_buy  rev_stop  \n",
       "national_inv       -0.006437      -0.015479 -0.000808  \n",
       "lead_time           0.001548      -0.235616  0.000659  \n",
       "in_transit_qty     -0.003508       0.003506  0.000174  \n",
       "forecast_3_month   -0.000058       0.000762 -0.000490  \n",
       "forecast_6_month   -0.000678       0.001287 -0.000493  \n",
       "forecast_9_month   -0.001062       0.001374 -0.000488  \n",
       "sales_1_month      -0.003081      -0.001158 -0.000477  \n",
       "sales_3_month      -0.003380      -0.000653 -0.000425  \n",
       "sales_6_month      -0.003478      -0.000823 -0.000473  \n",
       "sales_9_month      -0.003136      -0.000890 -0.000491  \n",
       "min_bank           -0.001774      -0.001082  0.004853  \n",
       "potential_issue     0.021356       0.005895 -0.000551  \n",
       "pieces_past_due     0.004064      -0.007928 -0.000583  \n",
       "perf_6_month_avg   -0.031450       0.093709 -0.034549  \n",
       "perf_12_month_avg  -0.035979       0.058802 -0.040911  \n",
       "local_bo_qty       -0.001194       0.003520 -0.000611  \n",
       "deck_risk           0.046661      -0.141699  0.001316  \n",
       "oe_constraint       0.001812       0.002296 -0.000215  \n",
       "ppap_risk           1.000000      -0.032620  0.029128  \n",
       "stop_auto_buy      -0.032620       1.000000 -0.071379  \n",
       "rev_stop            0.029128      -0.071379  1.000000  \n",
       "\n",
       "[21 rows x 21 columns]"
      ]
     },
     "execution_count": 55,
     "metadata": {},
     "output_type": "execute_result"
    }
   ],
   "source": [
    "# use the corr() function to generate the correlation matrix of the numeric variables\n",
    "corrmat = hd_features.corr()\n",
    "\n",
    "# print the correlation matrix\n",
    "corrmat"
   ]
  },
  {
   "cell_type": "markdown",
   "id": "a64a42c7",
   "metadata": {},
   "source": [
    "##### The next step of EDA will be scaling of the dataset as there is major difference between the values of all features. Scaling can be done after treating the outliers.\n",
    "##### We will scale all the numerical features and standardize all the features of the dataframe."
   ]
  },
  {
   "cell_type": "code",
   "execution_count": 56,
   "id": "b395cb4c",
   "metadata": {
    "scrolled": true
   },
   "outputs": [
    {
     "data": {
      "text/html": [
       "<div>\n",
       "<style scoped>\n",
       "    .dataframe tbody tr th:only-of-type {\n",
       "        vertical-align: middle;\n",
       "    }\n",
       "\n",
       "    .dataframe tbody tr th {\n",
       "        vertical-align: top;\n",
       "    }\n",
       "\n",
       "    .dataframe thead th {\n",
       "        text-align: right;\n",
       "    }\n",
       "</style>\n",
       "<table border=\"1\" class=\"dataframe\">\n",
       "  <thead>\n",
       "    <tr style=\"text-align: right;\">\n",
       "      <th></th>\n",
       "      <th>national_inv</th>\n",
       "      <th>lead_time</th>\n",
       "      <th>in_transit_qty</th>\n",
       "      <th>forecast_3_month</th>\n",
       "      <th>forecast_6_month</th>\n",
       "      <th>forecast_9_month</th>\n",
       "      <th>sales_1_month</th>\n",
       "      <th>sales_3_month</th>\n",
       "      <th>sales_6_month</th>\n",
       "      <th>sales_9_month</th>\n",
       "      <th>...</th>\n",
       "      <th>pieces_past_due</th>\n",
       "      <th>perf_6_month_avg</th>\n",
       "      <th>perf_12_month_avg</th>\n",
       "      <th>local_bo_qty</th>\n",
       "      <th>deck_risk</th>\n",
       "      <th>oe_constraint</th>\n",
       "      <th>ppap_risk</th>\n",
       "      <th>stop_auto_buy</th>\n",
       "      <th>rev_stop</th>\n",
       "      <th>went_on_backorder</th>\n",
       "    </tr>\n",
       "  </thead>\n",
       "  <tbody>\n",
       "    <tr>\n",
       "      <th>1</th>\n",
       "      <td>-0.063463</td>\n",
       "      <td>-0.855464</td>\n",
       "      <td>-0.038467</td>\n",
       "      <td>-0.032747</td>\n",
       "      <td>-0.032950</td>\n",
       "      <td>-0.032658</td>\n",
       "      <td>-0.032205</td>\n",
       "      <td>-0.028578</td>\n",
       "      <td>-0.031734</td>\n",
       "      <td>-0.032887</td>\n",
       "      <td>...</td>\n",
       "      <td>-0.038984</td>\n",
       "      <td>0.106669</td>\n",
       "      <td>0.064580</td>\n",
       "      <td>-0.040882</td>\n",
       "      <td>2.026377</td>\n",
       "      <td>-0.014362</td>\n",
       "      <td>-0.377865</td>\n",
       "      <td>0.159864</td>\n",
       "      <td>-0.014949</td>\n",
       "      <td>-0.481982</td>\n",
       "    </tr>\n",
       "    <tr>\n",
       "      <th>2</th>\n",
       "      <td>-0.005379</td>\n",
       "      <td>1.144859</td>\n",
       "      <td>-0.026192</td>\n",
       "      <td>-0.030908</td>\n",
       "      <td>-0.025292</td>\n",
       "      <td>-0.020063</td>\n",
       "      <td>0.000463</td>\n",
       "      <td>-0.003951</td>\n",
       "      <td>-0.003607</td>\n",
       "      <td>-0.004900</td>\n",
       "      <td>...</td>\n",
       "      <td>-0.038984</td>\n",
       "      <td>0.109852</td>\n",
       "      <td>0.103517</td>\n",
       "      <td>-0.040882</td>\n",
       "      <td>-0.493483</td>\n",
       "      <td>-0.014362</td>\n",
       "      <td>-0.377865</td>\n",
       "      <td>0.159864</td>\n",
       "      <td>-0.014949</td>\n",
       "      <td>-0.481982</td>\n",
       "    </tr>\n",
       "    <tr>\n",
       "      <th>3</th>\n",
       "      <td>-0.054438</td>\n",
       "      <td>-0.855464</td>\n",
       "      <td>-0.038467</td>\n",
       "      <td>-0.032747</td>\n",
       "      <td>-0.032950</td>\n",
       "      <td>-0.032658</td>\n",
       "      <td>-0.031495</td>\n",
       "      <td>-0.028204</td>\n",
       "      <td>-0.031075</td>\n",
       "      <td>-0.032197</td>\n",
       "      <td>...</td>\n",
       "      <td>-0.038984</td>\n",
       "      <td>0.126562</td>\n",
       "      <td>0.122059</td>\n",
       "      <td>-0.040882</td>\n",
       "      <td>2.026377</td>\n",
       "      <td>-0.014362</td>\n",
       "      <td>-0.377865</td>\n",
       "      <td>0.159864</td>\n",
       "      <td>-0.014949</td>\n",
       "      <td>-0.481982</td>\n",
       "    </tr>\n",
       "    <tr>\n",
       "      <th>4</th>\n",
       "      <td>-0.064620</td>\n",
       "      <td>-0.855464</td>\n",
       "      <td>-0.038467</td>\n",
       "      <td>-0.032011</td>\n",
       "      <td>-0.032354</td>\n",
       "      <td>-0.031973</td>\n",
       "      <td>-0.030785</td>\n",
       "      <td>-0.028204</td>\n",
       "      <td>-0.031185</td>\n",
       "      <td>-0.032427</td>\n",
       "      <td>...</td>\n",
       "      <td>-0.038984</td>\n",
       "      <td>0.144067</td>\n",
       "      <td>0.123913</td>\n",
       "      <td>-0.040882</td>\n",
       "      <td>-0.493483</td>\n",
       "      <td>-0.014362</td>\n",
       "      <td>-0.377865</td>\n",
       "      <td>0.159864</td>\n",
       "      <td>-0.014949</td>\n",
       "      <td>-0.481982</td>\n",
       "    </tr>\n",
       "    <tr>\n",
       "      <th>5</th>\n",
       "      <td>0.003646</td>\n",
       "      <td>0.683246</td>\n",
       "      <td>-0.038467</td>\n",
       "      <td>-0.032747</td>\n",
       "      <td>-0.032950</td>\n",
       "      <td>-0.032658</td>\n",
       "      <td>-0.028654</td>\n",
       "      <td>-0.027458</td>\n",
       "      <td>-0.026900</td>\n",
       "      <td>-0.028517</td>\n",
       "      <td>...</td>\n",
       "      <td>-0.038984</td>\n",
       "      <td>0.113035</td>\n",
       "      <td>0.108153</td>\n",
       "      <td>-0.040882</td>\n",
       "      <td>2.026377</td>\n",
       "      <td>-0.014362</td>\n",
       "      <td>-0.377865</td>\n",
       "      <td>0.159864</td>\n",
       "      <td>-0.014949</td>\n",
       "      <td>-0.481982</td>\n",
       "    </tr>\n",
       "  </tbody>\n",
       "</table>\n",
       "<p>5 rows × 22 columns</p>\n",
       "</div>"
      ],
      "text/plain": [
       "   national_inv  lead_time  in_transit_qty  forecast_3_month  \\\n",
       "1     -0.063463  -0.855464       -0.038467         -0.032747   \n",
       "2     -0.005379   1.144859       -0.026192         -0.030908   \n",
       "3     -0.054438  -0.855464       -0.038467         -0.032747   \n",
       "4     -0.064620  -0.855464       -0.038467         -0.032011   \n",
       "5      0.003646   0.683246       -0.038467         -0.032747   \n",
       "\n",
       "   forecast_6_month  forecast_9_month  sales_1_month  sales_3_month  \\\n",
       "1         -0.032950         -0.032658      -0.032205      -0.028578   \n",
       "2         -0.025292         -0.020063       0.000463      -0.003951   \n",
       "3         -0.032950         -0.032658      -0.031495      -0.028204   \n",
       "4         -0.032354         -0.031973      -0.030785      -0.028204   \n",
       "5         -0.032950         -0.032658      -0.028654      -0.027458   \n",
       "\n",
       "   sales_6_month  sales_9_month  ...  pieces_past_due  perf_6_month_avg  \\\n",
       "1      -0.031734      -0.032887  ...        -0.038984          0.106669   \n",
       "2      -0.003607      -0.004900  ...        -0.038984          0.109852   \n",
       "3      -0.031075      -0.032197  ...        -0.038984          0.126562   \n",
       "4      -0.031185      -0.032427  ...        -0.038984          0.144067   \n",
       "5      -0.026900      -0.028517  ...        -0.038984          0.113035   \n",
       "\n",
       "   perf_12_month_avg  local_bo_qty  deck_risk  oe_constraint  ppap_risk  \\\n",
       "1           0.064580     -0.040882   2.026377      -0.014362  -0.377865   \n",
       "2           0.103517     -0.040882  -0.493483      -0.014362  -0.377865   \n",
       "3           0.122059     -0.040882   2.026377      -0.014362  -0.377865   \n",
       "4           0.123913     -0.040882  -0.493483      -0.014362  -0.377865   \n",
       "5           0.108153     -0.040882   2.026377      -0.014362  -0.377865   \n",
       "\n",
       "   stop_auto_buy  rev_stop  went_on_backorder  \n",
       "1       0.159864 -0.014949          -0.481982  \n",
       "2       0.159864 -0.014949          -0.481982  \n",
       "3       0.159864 -0.014949          -0.481982  \n",
       "4       0.159864 -0.014949          -0.481982  \n",
       "5       0.159864 -0.014949          -0.481982  \n",
       "\n",
       "[5 rows x 22 columns]"
      ]
     },
     "execution_count": 56,
     "metadata": {},
     "output_type": "execute_result"
    }
   ],
   "source": [
    "# scale all the numerical columns\n",
    "# standardize all the columns of the dataframe 'df_feature'\n",
    "hd_num = hd.apply(lambda rec: (rec - rec.mean()) / rec.std())\n",
    "\n",
    "hd_num.head()"
   ]
  },
  {
   "cell_type": "markdown",
   "id": "e7cfa414",
   "metadata": {},
   "source": [
    "We scale the variables to get all the variables in the same range. With this, we can avoid a problem in which some features come to dominate solely because they tend to have larger values than others."
   ]
  },
  {
   "cell_type": "markdown",
   "id": "66aa7fec",
   "metadata": {},
   "source": []
  }
 ],
 "metadata": {
  "kernelspec": {
   "display_name": "Python 3 (ipykernel)",
   "language": "python",
   "name": "python3"
  },
  "language_info": {
   "codemirror_mode": {
    "name": "ipython",
    "version": 3
   },
   "file_extension": ".py",
   "mimetype": "text/x-python",
   "name": "python",
   "nbconvert_exporter": "python",
   "pygments_lexer": "ipython3",
   "version": "3.9.7"
  }
 },
 "nbformat": 4,
 "nbformat_minor": 5
}
